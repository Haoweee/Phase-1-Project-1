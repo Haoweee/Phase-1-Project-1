{
 "cells": [
  {
   "cell_type": "markdown",
   "metadata": {},
   "source": [
    "# Aviation Risk Analysis Project\n",
    "\n",
    "Authors: Brian Woo, Evan Rosenbaum"
   ]
  },
  {
   "cell_type": "markdown",
   "metadata": {},
   "source": [
    "## Overview\n",
    "\n",
    "This project involves data cleaning, imputation, analysis, and visualization to generate insights for a business stakeholder. The goal is to determine the lowest risk aircraft for a company looking to expand into the aviation industry."
   ]
  },
  {
   "cell_type": "markdown",
   "metadata": {},
   "source": [
    "# Business Problem"
   ]
  },
  {
   "cell_type": "markdown",
   "metadata": {},
   "source": [
    "## Stakeholder - US based (Domestic Flights)\n",
    "\n",
    "The stakeholder for this project is the head of the new aviation division within the company.\n",
    "\n",
    "### Key Business Questions\n",
    "\n",
    "1. Which aircraft types have the lowest risk based on historical accident data?\n",
    "2. What are the common causes of aircraft accidents?\n",
    "3. How can the company use this information to make informed decisions about purchasing aircraft?\n"
   ]
  },
  {
   "cell_type": "markdown",
   "metadata": {},
   "source": [
    "## Source of Data\n",
    "\n",
    "The dataset used for this project is from the National Transportation Safety Board (NTSB) and includes aviation accident data from 1962 to 2023. This dataset covers civil aviation accidents and selected incidents in the United States and international waters."
   ]
  },
  {
   "cell_type": "markdown",
   "metadata": {},
   "source": [
    "# Understanding the Data Structure"
   ]
  },
  {
   "cell_type": "code",
   "execution_count": 1,
   "metadata": {},
   "outputs": [],
   "source": [
    "# Import standard libraries\n",
    "import pandas as pd\n",
    "import matplotlib.pyplot as plt\n",
    "import seaborn as sns\n",
    "import numpy as np\n",
    "from scipy.stats import chi2_contingency\n",
    "\n",
    "import warnings\n",
    "warnings.filterwarnings('ignore')"
   ]
  },
  {
   "cell_type": "code",
   "execution_count": 2,
   "metadata": {},
   "outputs": [],
   "source": [
    "# Open the file in read mode and read lines\n",
    "\n",
    "aviation_df = pd.read_csv('./data_files/AviationData.csv', encoding='latin-1')\n",
    "\n",
    "state_codes_df = pd.read_csv('./data_files/USState_Codes.csv', encoding='latin-1')"
   ]
  },
  {
   "cell_type": "code",
   "execution_count": 3,
   "metadata": {},
   "outputs": [
    {
     "data": {
      "text/html": [
       "<div>\n",
       "<style scoped>\n",
       "    .dataframe tbody tr th:only-of-type {\n",
       "        vertical-align: middle;\n",
       "    }\n",
       "\n",
       "    .dataframe tbody tr th {\n",
       "        vertical-align: top;\n",
       "    }\n",
       "\n",
       "    .dataframe thead th {\n",
       "        text-align: right;\n",
       "    }\n",
       "</style>\n",
       "<table border=\"1\" class=\"dataframe\">\n",
       "  <thead>\n",
       "    <tr style=\"text-align: right;\">\n",
       "      <th></th>\n",
       "      <th>US_State</th>\n",
       "      <th>Abbreviation</th>\n",
       "    </tr>\n",
       "  </thead>\n",
       "  <tbody>\n",
       "    <tr>\n",
       "      <th>0</th>\n",
       "      <td>Alabama</td>\n",
       "      <td>AL</td>\n",
       "    </tr>\n",
       "    <tr>\n",
       "      <th>1</th>\n",
       "      <td>Alaska</td>\n",
       "      <td>AK</td>\n",
       "    </tr>\n",
       "    <tr>\n",
       "      <th>2</th>\n",
       "      <td>Arizona</td>\n",
       "      <td>AZ</td>\n",
       "    </tr>\n",
       "    <tr>\n",
       "      <th>3</th>\n",
       "      <td>Arkansas</td>\n",
       "      <td>AR</td>\n",
       "    </tr>\n",
       "    <tr>\n",
       "      <th>4</th>\n",
       "      <td>California</td>\n",
       "      <td>CA</td>\n",
       "    </tr>\n",
       "    <tr>\n",
       "      <th>...</th>\n",
       "      <td>...</td>\n",
       "      <td>...</td>\n",
       "    </tr>\n",
       "    <tr>\n",
       "      <th>57</th>\n",
       "      <td>Virgin Islands</td>\n",
       "      <td>VI</td>\n",
       "    </tr>\n",
       "    <tr>\n",
       "      <th>58</th>\n",
       "      <td>Washington_DC</td>\n",
       "      <td>DC</td>\n",
       "    </tr>\n",
       "    <tr>\n",
       "      <th>59</th>\n",
       "      <td>Gulf of mexico</td>\n",
       "      <td>GM</td>\n",
       "    </tr>\n",
       "    <tr>\n",
       "      <th>60</th>\n",
       "      <td>Atlantic ocean</td>\n",
       "      <td>AO</td>\n",
       "    </tr>\n",
       "    <tr>\n",
       "      <th>61</th>\n",
       "      <td>Pacific ocean</td>\n",
       "      <td>PO</td>\n",
       "    </tr>\n",
       "  </tbody>\n",
       "</table>\n",
       "<p>62 rows × 2 columns</p>\n",
       "</div>"
      ],
      "text/plain": [
       "          US_State Abbreviation\n",
       "0          Alabama           AL\n",
       "1           Alaska           AK\n",
       "2          Arizona           AZ\n",
       "3         Arkansas           AR\n",
       "4       California           CA\n",
       "..             ...          ...\n",
       "57  Virgin Islands           VI\n",
       "58   Washington_DC           DC\n",
       "59  Gulf of mexico           GM\n",
       "60  Atlantic ocean           AO\n",
       "61   Pacific ocean           PO\n",
       "\n",
       "[62 rows x 2 columns]"
      ]
     },
     "execution_count": 3,
     "metadata": {},
     "output_type": "execute_result"
    }
   ],
   "source": [
    "state_codes_df"
   ]
  },
  {
   "cell_type": "code",
   "execution_count": 4,
   "metadata": {
    "scrolled": true
   },
   "outputs": [
    {
     "data": {
      "text/plain": [
       "Index(['event_id', 'investigation_type', 'accident_number', 'event_date',\n",
       "       'location', 'country', 'latitude', 'longitude', 'airport_code',\n",
       "       'airport_name', 'injury_severity', 'aircraft_damage',\n",
       "       'aircraft_category', 'registration_number', 'make', 'model',\n",
       "       'amateur_built', 'number_of_engines', 'engine_type', 'far_description',\n",
       "       'schedule', 'purpose_of_flight', 'air_carrier', 'total_fatal_injuries',\n",
       "       'total_serious_injuries', 'total_minor_injuries', 'total_uninjured',\n",
       "       'weather_condition', 'broad_phase_of_flight', 'report_status',\n",
       "       'publication_date'],\n",
       "      dtype='object')"
      ]
     },
     "execution_count": 4,
     "metadata": {},
     "output_type": "execute_result"
    }
   ],
   "source": [
    "# Changing the naming convention of columns\n",
    "aviation_df.columns = aviation_df.columns.str.lower().str.replace('.', '_')\n",
    "aviation_df.columns"
   ]
  },
  {
   "cell_type": "code",
   "execution_count": 5,
   "metadata": {},
   "outputs": [],
   "source": [
    "# Apply lambda function to remove whitespace from every element in the DataFrame\n",
    "aviation_df = aviation_df.applymap(lambda x: x.strip() if isinstance(x, str) else x)"
   ]
  },
  {
   "cell_type": "code",
   "execution_count": 6,
   "metadata": {},
   "outputs": [],
   "source": [
    "# Drops duplicate rows\n",
    "aviation_df.drop_duplicates(inplace=True)"
   ]
  },
  {
   "cell_type": "code",
   "execution_count": 7,
   "metadata": {},
   "outputs": [
    {
     "data": {
      "text/plain": [
       "(88889, 31)"
      ]
     },
     "execution_count": 7,
     "metadata": {},
     "output_type": "execute_result"
    }
   ],
   "source": [
    "aviation_df.shape"
   ]
  },
  {
   "cell_type": "code",
   "execution_count": 8,
   "metadata": {},
   "outputs": [
    {
     "data": {
      "text/html": [
       "<div>\n",
       "<style scoped>\n",
       "    .dataframe tbody tr th:only-of-type {\n",
       "        vertical-align: middle;\n",
       "    }\n",
       "\n",
       "    .dataframe tbody tr th {\n",
       "        vertical-align: top;\n",
       "    }\n",
       "\n",
       "    .dataframe thead th {\n",
       "        text-align: right;\n",
       "    }\n",
       "</style>\n",
       "<table border=\"1\" class=\"dataframe\">\n",
       "  <thead>\n",
       "    <tr style=\"text-align: right;\">\n",
       "      <th></th>\n",
       "      <th>event_id</th>\n",
       "      <th>investigation_type</th>\n",
       "      <th>accident_number</th>\n",
       "      <th>event_date</th>\n",
       "      <th>location</th>\n",
       "      <th>country</th>\n",
       "      <th>latitude</th>\n",
       "      <th>longitude</th>\n",
       "      <th>airport_code</th>\n",
       "      <th>airport_name</th>\n",
       "      <th>...</th>\n",
       "      <th>purpose_of_flight</th>\n",
       "      <th>air_carrier</th>\n",
       "      <th>total_fatal_injuries</th>\n",
       "      <th>total_serious_injuries</th>\n",
       "      <th>total_minor_injuries</th>\n",
       "      <th>total_uninjured</th>\n",
       "      <th>weather_condition</th>\n",
       "      <th>broad_phase_of_flight</th>\n",
       "      <th>report_status</th>\n",
       "      <th>publication_date</th>\n",
       "    </tr>\n",
       "  </thead>\n",
       "  <tbody>\n",
       "    <tr>\n",
       "      <th>0</th>\n",
       "      <td>20001218X45444</td>\n",
       "      <td>Accident</td>\n",
       "      <td>SEA87LA080</td>\n",
       "      <td>1948-10-24</td>\n",
       "      <td>MOOSE CREEK, ID</td>\n",
       "      <td>United States</td>\n",
       "      <td>NaN</td>\n",
       "      <td>NaN</td>\n",
       "      <td>NaN</td>\n",
       "      <td>NaN</td>\n",
       "      <td>...</td>\n",
       "      <td>Personal</td>\n",
       "      <td>NaN</td>\n",
       "      <td>2.0</td>\n",
       "      <td>0.0</td>\n",
       "      <td>0.0</td>\n",
       "      <td>0.0</td>\n",
       "      <td>UNK</td>\n",
       "      <td>Cruise</td>\n",
       "      <td>Probable Cause</td>\n",
       "      <td>NaN</td>\n",
       "    </tr>\n",
       "    <tr>\n",
       "      <th>1</th>\n",
       "      <td>20001218X45447</td>\n",
       "      <td>Accident</td>\n",
       "      <td>LAX94LA336</td>\n",
       "      <td>1962-07-19</td>\n",
       "      <td>BRIDGEPORT, CA</td>\n",
       "      <td>United States</td>\n",
       "      <td>NaN</td>\n",
       "      <td>NaN</td>\n",
       "      <td>NaN</td>\n",
       "      <td>NaN</td>\n",
       "      <td>...</td>\n",
       "      <td>Personal</td>\n",
       "      <td>NaN</td>\n",
       "      <td>4.0</td>\n",
       "      <td>0.0</td>\n",
       "      <td>0.0</td>\n",
       "      <td>0.0</td>\n",
       "      <td>UNK</td>\n",
       "      <td>Unknown</td>\n",
       "      <td>Probable Cause</td>\n",
       "      <td>19-09-1996</td>\n",
       "    </tr>\n",
       "    <tr>\n",
       "      <th>2</th>\n",
       "      <td>20061025X01555</td>\n",
       "      <td>Accident</td>\n",
       "      <td>NYC07LA005</td>\n",
       "      <td>1974-08-30</td>\n",
       "      <td>Saltville, VA</td>\n",
       "      <td>United States</td>\n",
       "      <td>36.922223</td>\n",
       "      <td>-81.878056</td>\n",
       "      <td>NaN</td>\n",
       "      <td>NaN</td>\n",
       "      <td>...</td>\n",
       "      <td>Personal</td>\n",
       "      <td>NaN</td>\n",
       "      <td>3.0</td>\n",
       "      <td>NaN</td>\n",
       "      <td>NaN</td>\n",
       "      <td>NaN</td>\n",
       "      <td>IMC</td>\n",
       "      <td>Cruise</td>\n",
       "      <td>Probable Cause</td>\n",
       "      <td>26-02-2007</td>\n",
       "    </tr>\n",
       "    <tr>\n",
       "      <th>3</th>\n",
       "      <td>20001218X45448</td>\n",
       "      <td>Accident</td>\n",
       "      <td>LAX96LA321</td>\n",
       "      <td>1977-06-19</td>\n",
       "      <td>EUREKA, CA</td>\n",
       "      <td>United States</td>\n",
       "      <td>NaN</td>\n",
       "      <td>NaN</td>\n",
       "      <td>NaN</td>\n",
       "      <td>NaN</td>\n",
       "      <td>...</td>\n",
       "      <td>Personal</td>\n",
       "      <td>NaN</td>\n",
       "      <td>2.0</td>\n",
       "      <td>0.0</td>\n",
       "      <td>0.0</td>\n",
       "      <td>0.0</td>\n",
       "      <td>IMC</td>\n",
       "      <td>Cruise</td>\n",
       "      <td>Probable Cause</td>\n",
       "      <td>12-09-2000</td>\n",
       "    </tr>\n",
       "    <tr>\n",
       "      <th>4</th>\n",
       "      <td>20041105X01764</td>\n",
       "      <td>Accident</td>\n",
       "      <td>CHI79FA064</td>\n",
       "      <td>1979-08-02</td>\n",
       "      <td>Canton, OH</td>\n",
       "      <td>United States</td>\n",
       "      <td>NaN</td>\n",
       "      <td>NaN</td>\n",
       "      <td>NaN</td>\n",
       "      <td>NaN</td>\n",
       "      <td>...</td>\n",
       "      <td>Personal</td>\n",
       "      <td>NaN</td>\n",
       "      <td>1.0</td>\n",
       "      <td>2.0</td>\n",
       "      <td>NaN</td>\n",
       "      <td>0.0</td>\n",
       "      <td>VMC</td>\n",
       "      <td>Approach</td>\n",
       "      <td>Probable Cause</td>\n",
       "      <td>16-04-1980</td>\n",
       "    </tr>\n",
       "    <tr>\n",
       "      <th>...</th>\n",
       "      <td>...</td>\n",
       "      <td>...</td>\n",
       "      <td>...</td>\n",
       "      <td>...</td>\n",
       "      <td>...</td>\n",
       "      <td>...</td>\n",
       "      <td>...</td>\n",
       "      <td>...</td>\n",
       "      <td>...</td>\n",
       "      <td>...</td>\n",
       "      <td>...</td>\n",
       "      <td>...</td>\n",
       "      <td>...</td>\n",
       "      <td>...</td>\n",
       "      <td>...</td>\n",
       "      <td>...</td>\n",
       "      <td>...</td>\n",
       "      <td>...</td>\n",
       "      <td>...</td>\n",
       "      <td>...</td>\n",
       "      <td>...</td>\n",
       "    </tr>\n",
       "    <tr>\n",
       "      <th>88884</th>\n",
       "      <td>20221227106491</td>\n",
       "      <td>Accident</td>\n",
       "      <td>ERA23LA093</td>\n",
       "      <td>2022-12-26</td>\n",
       "      <td>Annapolis, MD</td>\n",
       "      <td>United States</td>\n",
       "      <td>NaN</td>\n",
       "      <td>NaN</td>\n",
       "      <td>NaN</td>\n",
       "      <td>NaN</td>\n",
       "      <td>...</td>\n",
       "      <td>Personal</td>\n",
       "      <td>NaN</td>\n",
       "      <td>0.0</td>\n",
       "      <td>1.0</td>\n",
       "      <td>0.0</td>\n",
       "      <td>0.0</td>\n",
       "      <td>NaN</td>\n",
       "      <td>NaN</td>\n",
       "      <td>NaN</td>\n",
       "      <td>29-12-2022</td>\n",
       "    </tr>\n",
       "    <tr>\n",
       "      <th>88885</th>\n",
       "      <td>20221227106494</td>\n",
       "      <td>Accident</td>\n",
       "      <td>ERA23LA095</td>\n",
       "      <td>2022-12-26</td>\n",
       "      <td>Hampton, NH</td>\n",
       "      <td>United States</td>\n",
       "      <td>NaN</td>\n",
       "      <td>NaN</td>\n",
       "      <td>NaN</td>\n",
       "      <td>NaN</td>\n",
       "      <td>...</td>\n",
       "      <td>NaN</td>\n",
       "      <td>NaN</td>\n",
       "      <td>0.0</td>\n",
       "      <td>0.0</td>\n",
       "      <td>0.0</td>\n",
       "      <td>0.0</td>\n",
       "      <td>NaN</td>\n",
       "      <td>NaN</td>\n",
       "      <td>NaN</td>\n",
       "      <td>NaN</td>\n",
       "    </tr>\n",
       "    <tr>\n",
       "      <th>88886</th>\n",
       "      <td>20221227106497</td>\n",
       "      <td>Accident</td>\n",
       "      <td>WPR23LA075</td>\n",
       "      <td>2022-12-26</td>\n",
       "      <td>Payson, AZ</td>\n",
       "      <td>United States</td>\n",
       "      <td>341525N</td>\n",
       "      <td>1112021W</td>\n",
       "      <td>PAN</td>\n",
       "      <td>PAYSON</td>\n",
       "      <td>...</td>\n",
       "      <td>Personal</td>\n",
       "      <td>NaN</td>\n",
       "      <td>0.0</td>\n",
       "      <td>0.0</td>\n",
       "      <td>0.0</td>\n",
       "      <td>1.0</td>\n",
       "      <td>VMC</td>\n",
       "      <td>NaN</td>\n",
       "      <td>NaN</td>\n",
       "      <td>27-12-2022</td>\n",
       "    </tr>\n",
       "    <tr>\n",
       "      <th>88887</th>\n",
       "      <td>20221227106498</td>\n",
       "      <td>Accident</td>\n",
       "      <td>WPR23LA076</td>\n",
       "      <td>2022-12-26</td>\n",
       "      <td>Morgan, UT</td>\n",
       "      <td>United States</td>\n",
       "      <td>NaN</td>\n",
       "      <td>NaN</td>\n",
       "      <td>NaN</td>\n",
       "      <td>NaN</td>\n",
       "      <td>...</td>\n",
       "      <td>Personal</td>\n",
       "      <td>MC CESSNA 210N LLC</td>\n",
       "      <td>0.0</td>\n",
       "      <td>0.0</td>\n",
       "      <td>0.0</td>\n",
       "      <td>0.0</td>\n",
       "      <td>NaN</td>\n",
       "      <td>NaN</td>\n",
       "      <td>NaN</td>\n",
       "      <td>NaN</td>\n",
       "    </tr>\n",
       "    <tr>\n",
       "      <th>88888</th>\n",
       "      <td>20221230106513</td>\n",
       "      <td>Accident</td>\n",
       "      <td>ERA23LA097</td>\n",
       "      <td>2022-12-29</td>\n",
       "      <td>Athens, GA</td>\n",
       "      <td>United States</td>\n",
       "      <td>NaN</td>\n",
       "      <td>NaN</td>\n",
       "      <td>NaN</td>\n",
       "      <td>NaN</td>\n",
       "      <td>...</td>\n",
       "      <td>Personal</td>\n",
       "      <td>NaN</td>\n",
       "      <td>0.0</td>\n",
       "      <td>1.0</td>\n",
       "      <td>0.0</td>\n",
       "      <td>1.0</td>\n",
       "      <td>NaN</td>\n",
       "      <td>NaN</td>\n",
       "      <td>NaN</td>\n",
       "      <td>30-12-2022</td>\n",
       "    </tr>\n",
       "  </tbody>\n",
       "</table>\n",
       "<p>88889 rows × 31 columns</p>\n",
       "</div>"
      ],
      "text/plain": [
       "             event_id investigation_type accident_number  event_date  \\\n",
       "0      20001218X45444           Accident      SEA87LA080  1948-10-24   \n",
       "1      20001218X45447           Accident      LAX94LA336  1962-07-19   \n",
       "2      20061025X01555           Accident      NYC07LA005  1974-08-30   \n",
       "3      20001218X45448           Accident      LAX96LA321  1977-06-19   \n",
       "4      20041105X01764           Accident      CHI79FA064  1979-08-02   \n",
       "...               ...                ...             ...         ...   \n",
       "88884  20221227106491           Accident      ERA23LA093  2022-12-26   \n",
       "88885  20221227106494           Accident      ERA23LA095  2022-12-26   \n",
       "88886  20221227106497           Accident      WPR23LA075  2022-12-26   \n",
       "88887  20221227106498           Accident      WPR23LA076  2022-12-26   \n",
       "88888  20221230106513           Accident      ERA23LA097  2022-12-29   \n",
       "\n",
       "              location        country   latitude  longitude airport_code  \\\n",
       "0      MOOSE CREEK, ID  United States        NaN        NaN          NaN   \n",
       "1       BRIDGEPORT, CA  United States        NaN        NaN          NaN   \n",
       "2        Saltville, VA  United States  36.922223 -81.878056          NaN   \n",
       "3           EUREKA, CA  United States        NaN        NaN          NaN   \n",
       "4           Canton, OH  United States        NaN        NaN          NaN   \n",
       "...                ...            ...        ...        ...          ...   \n",
       "88884    Annapolis, MD  United States        NaN        NaN          NaN   \n",
       "88885      Hampton, NH  United States        NaN        NaN          NaN   \n",
       "88886       Payson, AZ  United States    341525N   1112021W          PAN   \n",
       "88887       Morgan, UT  United States        NaN        NaN          NaN   \n",
       "88888       Athens, GA  United States        NaN        NaN          NaN   \n",
       "\n",
       "      airport_name  ... purpose_of_flight         air_carrier  \\\n",
       "0              NaN  ...          Personal                 NaN   \n",
       "1              NaN  ...          Personal                 NaN   \n",
       "2              NaN  ...          Personal                 NaN   \n",
       "3              NaN  ...          Personal                 NaN   \n",
       "4              NaN  ...          Personal                 NaN   \n",
       "...            ...  ...               ...                 ...   \n",
       "88884          NaN  ...          Personal                 NaN   \n",
       "88885          NaN  ...               NaN                 NaN   \n",
       "88886       PAYSON  ...          Personal                 NaN   \n",
       "88887          NaN  ...          Personal  MC CESSNA 210N LLC   \n",
       "88888          NaN  ...          Personal                 NaN   \n",
       "\n",
       "      total_fatal_injuries total_serious_injuries total_minor_injuries  \\\n",
       "0                      2.0                    0.0                  0.0   \n",
       "1                      4.0                    0.0                  0.0   \n",
       "2                      3.0                    NaN                  NaN   \n",
       "3                      2.0                    0.0                  0.0   \n",
       "4                      1.0                    2.0                  NaN   \n",
       "...                    ...                    ...                  ...   \n",
       "88884                  0.0                    1.0                  0.0   \n",
       "88885                  0.0                    0.0                  0.0   \n",
       "88886                  0.0                    0.0                  0.0   \n",
       "88887                  0.0                    0.0                  0.0   \n",
       "88888                  0.0                    1.0                  0.0   \n",
       "\n",
       "      total_uninjured weather_condition  broad_phase_of_flight  \\\n",
       "0                 0.0               UNK                 Cruise   \n",
       "1                 0.0               UNK                Unknown   \n",
       "2                 NaN               IMC                 Cruise   \n",
       "3                 0.0               IMC                 Cruise   \n",
       "4                 0.0               VMC               Approach   \n",
       "...               ...               ...                    ...   \n",
       "88884             0.0               NaN                    NaN   \n",
       "88885             0.0               NaN                    NaN   \n",
       "88886             1.0               VMC                    NaN   \n",
       "88887             0.0               NaN                    NaN   \n",
       "88888             1.0               NaN                    NaN   \n",
       "\n",
       "        report_status publication_date  \n",
       "0      Probable Cause              NaN  \n",
       "1      Probable Cause       19-09-1996  \n",
       "2      Probable Cause       26-02-2007  \n",
       "3      Probable Cause       12-09-2000  \n",
       "4      Probable Cause       16-04-1980  \n",
       "...               ...              ...  \n",
       "88884             NaN       29-12-2022  \n",
       "88885             NaN              NaN  \n",
       "88886             NaN       27-12-2022  \n",
       "88887             NaN              NaN  \n",
       "88888             NaN       30-12-2022  \n",
       "\n",
       "[88889 rows x 31 columns]"
      ]
     },
     "execution_count": 8,
     "metadata": {},
     "output_type": "execute_result"
    }
   ],
   "source": [
    "aviation_df"
   ]
  },
  {
   "cell_type": "markdown",
   "metadata": {},
   "source": [
    "# Data Types and Missing Values"
   ]
  },
  {
   "cell_type": "code",
   "execution_count": 9,
   "metadata": {},
   "outputs": [
    {
     "name": "stdout",
     "output_type": "stream",
     "text": [
      "<class 'pandas.core.frame.DataFrame'>\n",
      "Int64Index: 88889 entries, 0 to 88888\n",
      "Data columns (total 31 columns):\n",
      " #   Column                  Non-Null Count  Dtype  \n",
      "---  ------                  --------------  -----  \n",
      " 0   event_id                88889 non-null  object \n",
      " 1   investigation_type      88889 non-null  object \n",
      " 2   accident_number         88889 non-null  object \n",
      " 3   event_date              88889 non-null  object \n",
      " 4   location                88837 non-null  object \n",
      " 5   country                 88663 non-null  object \n",
      " 6   latitude                34382 non-null  object \n",
      " 7   longitude               34373 non-null  object \n",
      " 8   airport_code            50249 non-null  object \n",
      " 9   airport_name            52790 non-null  object \n",
      " 10  injury_severity         87889 non-null  object \n",
      " 11  aircraft_damage         85695 non-null  object \n",
      " 12  aircraft_category       32287 non-null  object \n",
      " 13  registration_number     87572 non-null  object \n",
      " 14  make                    88826 non-null  object \n",
      " 15  model                   88797 non-null  object \n",
      " 16  amateur_built           88787 non-null  object \n",
      " 17  number_of_engines       82805 non-null  float64\n",
      " 18  engine_type             81812 non-null  object \n",
      " 19  far_description         32023 non-null  object \n",
      " 20  schedule                12582 non-null  object \n",
      " 21  purpose_of_flight       82697 non-null  object \n",
      " 22  air_carrier             16648 non-null  object \n",
      " 23  total_fatal_injuries    77488 non-null  float64\n",
      " 24  total_serious_injuries  76379 non-null  float64\n",
      " 25  total_minor_injuries    76956 non-null  float64\n",
      " 26  total_uninjured         82977 non-null  float64\n",
      " 27  weather_condition       84397 non-null  object \n",
      " 28  broad_phase_of_flight   61724 non-null  object \n",
      " 29  report_status           82508 non-null  object \n",
      " 30  publication_date        75118 non-null  object \n",
      "dtypes: float64(5), object(26)\n",
      "memory usage: 21.7+ MB\n"
     ]
    }
   ],
   "source": [
    "aviation_df.info()"
   ]
  },
  {
   "cell_type": "markdown",
   "metadata": {},
   "source": [
    "### Missing values"
   ]
  },
  {
   "cell_type": "code",
   "execution_count": 10,
   "metadata": {},
   "outputs": [
    {
     "data": {
      "text/plain": [
       "event_id                   0.000000\n",
       "investigation_type         0.000000\n",
       "accident_number            0.000000\n",
       "event_date                 0.000000\n",
       "location                   0.058500\n",
       "country                    0.254250\n",
       "latitude                  61.320298\n",
       "longitude                 61.330423\n",
       "airport_code              43.469946\n",
       "airport_name              40.611324\n",
       "injury_severity            1.124999\n",
       "aircraft_damage            3.593246\n",
       "aircraft_category         63.677170\n",
       "registration_number        1.481623\n",
       "make                       0.070875\n",
       "model                      0.103500\n",
       "amateur_built              0.114750\n",
       "number_of_engines          6.844491\n",
       "engine_type                7.961615\n",
       "far_description           63.974170\n",
       "schedule                  85.845268\n",
       "purpose_of_flight          6.965991\n",
       "air_carrier               81.271023\n",
       "total_fatal_injuries      12.826109\n",
       "total_serious_injuries    14.073732\n",
       "total_minor_injuries      13.424608\n",
       "total_uninjured            6.650992\n",
       "weather_condition          5.053494\n",
       "broad_phase_of_flight     30.560587\n",
       "report_status              7.178616\n",
       "publication_date          15.492356\n",
       "dtype: float64"
      ]
     },
     "execution_count": 10,
     "metadata": {},
     "output_type": "execute_result"
    }
   ],
   "source": [
    "# Percent of missing values in each column\n",
    "aviation_df.isna().sum() * 100 / len(aviation_df)"
   ]
  },
  {
   "cell_type": "code",
   "execution_count": 11,
   "metadata": {},
   "outputs": [
    {
     "data": {
      "text/html": [
       "<div>\n",
       "<style scoped>\n",
       "    .dataframe tbody tr th:only-of-type {\n",
       "        vertical-align: middle;\n",
       "    }\n",
       "\n",
       "    .dataframe tbody tr th {\n",
       "        vertical-align: top;\n",
       "    }\n",
       "\n",
       "    .dataframe thead th {\n",
       "        text-align: right;\n",
       "    }\n",
       "</style>\n",
       "<table border=\"1\" class=\"dataframe\">\n",
       "  <thead>\n",
       "    <tr style=\"text-align: right;\">\n",
       "      <th></th>\n",
       "      <th>Column</th>\n",
       "      <th>unique_val</th>\n",
       "      <th>missing_values</th>\n",
       "    </tr>\n",
       "  </thead>\n",
       "  <tbody>\n",
       "    <tr>\n",
       "      <th>0</th>\n",
       "      <td>event_id</td>\n",
       "      <td>87951</td>\n",
       "      <td>0</td>\n",
       "    </tr>\n",
       "    <tr>\n",
       "      <th>1</th>\n",
       "      <td>investigation_type</td>\n",
       "      <td>2</td>\n",
       "      <td>0</td>\n",
       "    </tr>\n",
       "    <tr>\n",
       "      <th>2</th>\n",
       "      <td>accident_number</td>\n",
       "      <td>88863</td>\n",
       "      <td>0</td>\n",
       "    </tr>\n",
       "    <tr>\n",
       "      <th>3</th>\n",
       "      <td>event_date</td>\n",
       "      <td>14782</td>\n",
       "      <td>0</td>\n",
       "    </tr>\n",
       "    <tr>\n",
       "      <th>4</th>\n",
       "      <td>location</td>\n",
       "      <td>27758</td>\n",
       "      <td>52</td>\n",
       "    </tr>\n",
       "    <tr>\n",
       "      <th>5</th>\n",
       "      <td>country</td>\n",
       "      <td>220</td>\n",
       "      <td>226</td>\n",
       "    </tr>\n",
       "    <tr>\n",
       "      <th>6</th>\n",
       "      <td>latitude</td>\n",
       "      <td>25593</td>\n",
       "      <td>54507</td>\n",
       "    </tr>\n",
       "    <tr>\n",
       "      <th>7</th>\n",
       "      <td>longitude</td>\n",
       "      <td>27157</td>\n",
       "      <td>54516</td>\n",
       "    </tr>\n",
       "    <tr>\n",
       "      <th>8</th>\n",
       "      <td>airport_code</td>\n",
       "      <td>10376</td>\n",
       "      <td>38640</td>\n",
       "    </tr>\n",
       "    <tr>\n",
       "      <th>9</th>\n",
       "      <td>airport_name</td>\n",
       "      <td>24872</td>\n",
       "      <td>36099</td>\n",
       "    </tr>\n",
       "    <tr>\n",
       "      <th>10</th>\n",
       "      <td>injury_severity</td>\n",
       "      <td>110</td>\n",
       "      <td>1000</td>\n",
       "    </tr>\n",
       "    <tr>\n",
       "      <th>11</th>\n",
       "      <td>aircraft_damage</td>\n",
       "      <td>5</td>\n",
       "      <td>3194</td>\n",
       "    </tr>\n",
       "    <tr>\n",
       "      <th>12</th>\n",
       "      <td>aircraft_category</td>\n",
       "      <td>16</td>\n",
       "      <td>56602</td>\n",
       "    </tr>\n",
       "    <tr>\n",
       "      <th>13</th>\n",
       "      <td>registration_number</td>\n",
       "      <td>79106</td>\n",
       "      <td>1317</td>\n",
       "    </tr>\n",
       "    <tr>\n",
       "      <th>14</th>\n",
       "      <td>make</td>\n",
       "      <td>8238</td>\n",
       "      <td>63</td>\n",
       "    </tr>\n",
       "    <tr>\n",
       "      <th>15</th>\n",
       "      <td>model</td>\n",
       "      <td>12319</td>\n",
       "      <td>92</td>\n",
       "    </tr>\n",
       "    <tr>\n",
       "      <th>16</th>\n",
       "      <td>amateur_built</td>\n",
       "      <td>3</td>\n",
       "      <td>102</td>\n",
       "    </tr>\n",
       "    <tr>\n",
       "      <th>17</th>\n",
       "      <td>number_of_engines</td>\n",
       "      <td>8</td>\n",
       "      <td>6084</td>\n",
       "    </tr>\n",
       "    <tr>\n",
       "      <th>18</th>\n",
       "      <td>engine_type</td>\n",
       "      <td>14</td>\n",
       "      <td>7077</td>\n",
       "    </tr>\n",
       "    <tr>\n",
       "      <th>19</th>\n",
       "      <td>far_description</td>\n",
       "      <td>32</td>\n",
       "      <td>56866</td>\n",
       "    </tr>\n",
       "    <tr>\n",
       "      <th>20</th>\n",
       "      <td>schedule</td>\n",
       "      <td>4</td>\n",
       "      <td>76307</td>\n",
       "    </tr>\n",
       "    <tr>\n",
       "      <th>21</th>\n",
       "      <td>purpose_of_flight</td>\n",
       "      <td>27</td>\n",
       "      <td>6192</td>\n",
       "    </tr>\n",
       "    <tr>\n",
       "      <th>22</th>\n",
       "      <td>air_carrier</td>\n",
       "      <td>13591</td>\n",
       "      <td>72241</td>\n",
       "    </tr>\n",
       "    <tr>\n",
       "      <th>23</th>\n",
       "      <td>total_fatal_injuries</td>\n",
       "      <td>126</td>\n",
       "      <td>11401</td>\n",
       "    </tr>\n",
       "    <tr>\n",
       "      <th>24</th>\n",
       "      <td>total_serious_injuries</td>\n",
       "      <td>51</td>\n",
       "      <td>12510</td>\n",
       "    </tr>\n",
       "    <tr>\n",
       "      <th>25</th>\n",
       "      <td>total_minor_injuries</td>\n",
       "      <td>58</td>\n",
       "      <td>11933</td>\n",
       "    </tr>\n",
       "    <tr>\n",
       "      <th>26</th>\n",
       "      <td>total_uninjured</td>\n",
       "      <td>380</td>\n",
       "      <td>5912</td>\n",
       "    </tr>\n",
       "    <tr>\n",
       "      <th>27</th>\n",
       "      <td>weather_condition</td>\n",
       "      <td>5</td>\n",
       "      <td>4492</td>\n",
       "    </tr>\n",
       "    <tr>\n",
       "      <th>28</th>\n",
       "      <td>broad_phase_of_flight</td>\n",
       "      <td>13</td>\n",
       "      <td>27165</td>\n",
       "    </tr>\n",
       "    <tr>\n",
       "      <th>29</th>\n",
       "      <td>report_status</td>\n",
       "      <td>16781</td>\n",
       "      <td>6381</td>\n",
       "    </tr>\n",
       "    <tr>\n",
       "      <th>30</th>\n",
       "      <td>publication_date</td>\n",
       "      <td>2925</td>\n",
       "      <td>13771</td>\n",
       "    </tr>\n",
       "  </tbody>\n",
       "</table>\n",
       "</div>"
      ],
      "text/plain": [
       "                    Column  unique_val  missing_values\n",
       "0                 event_id       87951               0\n",
       "1       investigation_type           2               0\n",
       "2          accident_number       88863               0\n",
       "3               event_date       14782               0\n",
       "4                 location       27758              52\n",
       "5                  country         220             226\n",
       "6                 latitude       25593           54507\n",
       "7                longitude       27157           54516\n",
       "8             airport_code       10376           38640\n",
       "9             airport_name       24872           36099\n",
       "10         injury_severity         110            1000\n",
       "11         aircraft_damage           5            3194\n",
       "12       aircraft_category          16           56602\n",
       "13     registration_number       79106            1317\n",
       "14                    make        8238              63\n",
       "15                   model       12319              92\n",
       "16           amateur_built           3             102\n",
       "17       number_of_engines           8            6084\n",
       "18             engine_type          14            7077\n",
       "19         far_description          32           56866\n",
       "20                schedule           4           76307\n",
       "21       purpose_of_flight          27            6192\n",
       "22             air_carrier       13591           72241\n",
       "23    total_fatal_injuries         126           11401\n",
       "24  total_serious_injuries          51           12510\n",
       "25    total_minor_injuries          58           11933\n",
       "26         total_uninjured         380            5912\n",
       "27       weather_condition           5            4492\n",
       "28   broad_phase_of_flight          13           27165\n",
       "29           report_status       16781            6381\n",
       "30        publication_date        2925           13771"
      ]
     },
     "execution_count": 11,
     "metadata": {},
     "output_type": "execute_result"
    }
   ],
   "source": [
    "# Number of unique and missing values\n",
    "unique_missing_vals = {}\n",
    "for i in aviation_df.columns:\n",
    "    unique_missing_vals[i] = len(aviation_df[i].unique())\n",
    "\n",
    "unique_values= pd.DataFrame(list(unique_missing_vals.items()), columns = ['Column', 'unique_val'])\n",
    "unique_values[\"missing_values\"] = aviation_df.isna().sum().values\n",
    "unique_values"
   ]
  },
  {
   "cell_type": "markdown",
   "metadata": {},
   "source": [
    "# Descriptive Statistics"
   ]
  },
  {
   "cell_type": "code",
   "execution_count": 12,
   "metadata": {},
   "outputs": [
    {
     "data": {
      "text/html": [
       "<div>\n",
       "<style scoped>\n",
       "    .dataframe tbody tr th:only-of-type {\n",
       "        vertical-align: middle;\n",
       "    }\n",
       "\n",
       "    .dataframe tbody tr th {\n",
       "        vertical-align: top;\n",
       "    }\n",
       "\n",
       "    .dataframe thead th {\n",
       "        text-align: right;\n",
       "    }\n",
       "</style>\n",
       "<table border=\"1\" class=\"dataframe\">\n",
       "  <thead>\n",
       "    <tr style=\"text-align: right;\">\n",
       "      <th></th>\n",
       "      <th>number_of_engines</th>\n",
       "      <th>total_fatal_injuries</th>\n",
       "      <th>total_serious_injuries</th>\n",
       "      <th>total_minor_injuries</th>\n",
       "      <th>total_uninjured</th>\n",
       "    </tr>\n",
       "  </thead>\n",
       "  <tbody>\n",
       "    <tr>\n",
       "      <th>count</th>\n",
       "      <td>82805.000000</td>\n",
       "      <td>77488.000000</td>\n",
       "      <td>76379.000000</td>\n",
       "      <td>76956.000000</td>\n",
       "      <td>82977.000000</td>\n",
       "    </tr>\n",
       "    <tr>\n",
       "      <th>mean</th>\n",
       "      <td>1.146585</td>\n",
       "      <td>0.647855</td>\n",
       "      <td>0.279881</td>\n",
       "      <td>0.357061</td>\n",
       "      <td>5.325440</td>\n",
       "    </tr>\n",
       "    <tr>\n",
       "      <th>std</th>\n",
       "      <td>0.446510</td>\n",
       "      <td>5.485960</td>\n",
       "      <td>1.544084</td>\n",
       "      <td>2.235625</td>\n",
       "      <td>27.913634</td>\n",
       "    </tr>\n",
       "    <tr>\n",
       "      <th>min</th>\n",
       "      <td>0.000000</td>\n",
       "      <td>0.000000</td>\n",
       "      <td>0.000000</td>\n",
       "      <td>0.000000</td>\n",
       "      <td>0.000000</td>\n",
       "    </tr>\n",
       "    <tr>\n",
       "      <th>25%</th>\n",
       "      <td>1.000000</td>\n",
       "      <td>0.000000</td>\n",
       "      <td>0.000000</td>\n",
       "      <td>0.000000</td>\n",
       "      <td>0.000000</td>\n",
       "    </tr>\n",
       "    <tr>\n",
       "      <th>50%</th>\n",
       "      <td>1.000000</td>\n",
       "      <td>0.000000</td>\n",
       "      <td>0.000000</td>\n",
       "      <td>0.000000</td>\n",
       "      <td>1.000000</td>\n",
       "    </tr>\n",
       "    <tr>\n",
       "      <th>75%</th>\n",
       "      <td>1.000000</td>\n",
       "      <td>0.000000</td>\n",
       "      <td>0.000000</td>\n",
       "      <td>0.000000</td>\n",
       "      <td>2.000000</td>\n",
       "    </tr>\n",
       "    <tr>\n",
       "      <th>max</th>\n",
       "      <td>8.000000</td>\n",
       "      <td>349.000000</td>\n",
       "      <td>161.000000</td>\n",
       "      <td>380.000000</td>\n",
       "      <td>699.000000</td>\n",
       "    </tr>\n",
       "  </tbody>\n",
       "</table>\n",
       "</div>"
      ],
      "text/plain": [
       "       number_of_engines  total_fatal_injuries  total_serious_injuries  \\\n",
       "count       82805.000000          77488.000000            76379.000000   \n",
       "mean            1.146585              0.647855                0.279881   \n",
       "std             0.446510              5.485960                1.544084   \n",
       "min             0.000000              0.000000                0.000000   \n",
       "25%             1.000000              0.000000                0.000000   \n",
       "50%             1.000000              0.000000                0.000000   \n",
       "75%             1.000000              0.000000                0.000000   \n",
       "max             8.000000            349.000000              161.000000   \n",
       "\n",
       "       total_minor_injuries  total_uninjured  \n",
       "count          76956.000000     82977.000000  \n",
       "mean               0.357061         5.325440  \n",
       "std                2.235625        27.913634  \n",
       "min                0.000000         0.000000  \n",
       "25%                0.000000         0.000000  \n",
       "50%                0.000000         1.000000  \n",
       "75%                0.000000         2.000000  \n",
       "max              380.000000       699.000000  "
      ]
     },
     "execution_count": 12,
     "metadata": {},
     "output_type": "execute_result"
    }
   ],
   "source": [
    "aviation_df.describe()"
   ]
  },
  {
   "cell_type": "markdown",
   "metadata": {},
   "source": [
    "### Analysis of Statistics"
   ]
  },
  {
   "cell_type": "markdown",
   "metadata": {},
   "source": [
    "- There are large outlier inside of all of the injury metrics. However, these outliers are important and give us valuable information about the riskiness of the aircraft.\n",
    "\n",
    "- We should not remove these outliers.\n"
   ]
  },
  {
   "cell_type": "code",
   "execution_count": 13,
   "metadata": {},
   "outputs": [
    {
     "data": {
      "text/html": [
       "<div>\n",
       "<style scoped>\n",
       "    .dataframe tbody tr th:only-of-type {\n",
       "        vertical-align: middle;\n",
       "    }\n",
       "\n",
       "    .dataframe tbody tr th {\n",
       "        vertical-align: top;\n",
       "    }\n",
       "\n",
       "    .dataframe thead th {\n",
       "        text-align: right;\n",
       "    }\n",
       "</style>\n",
       "<table border=\"1\" class=\"dataframe\">\n",
       "  <thead>\n",
       "    <tr style=\"text-align: right;\">\n",
       "      <th></th>\n",
       "      <th>0</th>\n",
       "      <th>1</th>\n",
       "      <th>2</th>\n",
       "      <th>3</th>\n",
       "      <th>4</th>\n",
       "      <th>5</th>\n",
       "      <th>6</th>\n",
       "      <th>7</th>\n",
       "      <th>8</th>\n",
       "      <th>9</th>\n",
       "      <th>...</th>\n",
       "      <th>16</th>\n",
       "      <th>17</th>\n",
       "      <th>18</th>\n",
       "      <th>19</th>\n",
       "      <th>20</th>\n",
       "      <th>21</th>\n",
       "      <th>22</th>\n",
       "      <th>23</th>\n",
       "      <th>24</th>\n",
       "      <th>25</th>\n",
       "    </tr>\n",
       "  </thead>\n",
       "  <tbody>\n",
       "    <tr>\n",
       "      <th>event_id</th>\n",
       "      <td>20001212X19172</td>\n",
       "      <td>20001214X45071</td>\n",
       "      <td>NaN</td>\n",
       "      <td>NaN</td>\n",
       "      <td>NaN</td>\n",
       "      <td>NaN</td>\n",
       "      <td>NaN</td>\n",
       "      <td>NaN</td>\n",
       "      <td>NaN</td>\n",
       "      <td>NaN</td>\n",
       "      <td>...</td>\n",
       "      <td>NaN</td>\n",
       "      <td>NaN</td>\n",
       "      <td>NaN</td>\n",
       "      <td>NaN</td>\n",
       "      <td>NaN</td>\n",
       "      <td>NaN</td>\n",
       "      <td>NaN</td>\n",
       "      <td>NaN</td>\n",
       "      <td>NaN</td>\n",
       "      <td>NaN</td>\n",
       "    </tr>\n",
       "    <tr>\n",
       "      <th>investigation_type</th>\n",
       "      <td>Accident</td>\n",
       "      <td>NaN</td>\n",
       "      <td>NaN</td>\n",
       "      <td>NaN</td>\n",
       "      <td>NaN</td>\n",
       "      <td>NaN</td>\n",
       "      <td>NaN</td>\n",
       "      <td>NaN</td>\n",
       "      <td>NaN</td>\n",
       "      <td>NaN</td>\n",
       "      <td>...</td>\n",
       "      <td>NaN</td>\n",
       "      <td>NaN</td>\n",
       "      <td>NaN</td>\n",
       "      <td>NaN</td>\n",
       "      <td>NaN</td>\n",
       "      <td>NaN</td>\n",
       "      <td>NaN</td>\n",
       "      <td>NaN</td>\n",
       "      <td>NaN</td>\n",
       "      <td>NaN</td>\n",
       "    </tr>\n",
       "    <tr>\n",
       "      <th>accident_number</th>\n",
       "      <td>CEN22FA424</td>\n",
       "      <td>CEN22LA149</td>\n",
       "      <td>CEN22LA346</td>\n",
       "      <td>CEN23MA034</td>\n",
       "      <td>DCA22LA135</td>\n",
       "      <td>DCA22LA201</td>\n",
       "      <td>DCA22WA089</td>\n",
       "      <td>DCA22WA130</td>\n",
       "      <td>DCA22WA158</td>\n",
       "      <td>DCA22WA167</td>\n",
       "      <td>...</td>\n",
       "      <td>ERA22LA103</td>\n",
       "      <td>ERA22LA119</td>\n",
       "      <td>ERA22LA364</td>\n",
       "      <td>ERA22LA379</td>\n",
       "      <td>GAA22WA241</td>\n",
       "      <td>WPR22FA309</td>\n",
       "      <td>WPR22LA143</td>\n",
       "      <td>WPR22LA201</td>\n",
       "      <td>WPR23LA041</td>\n",
       "      <td>WPR23LA045</td>\n",
       "    </tr>\n",
       "    <tr>\n",
       "      <th>event_date</th>\n",
       "      <td>1982-05-16</td>\n",
       "      <td>1984-06-30</td>\n",
       "      <td>2000-07-08</td>\n",
       "      <td>NaN</td>\n",
       "      <td>NaN</td>\n",
       "      <td>NaN</td>\n",
       "      <td>NaN</td>\n",
       "      <td>NaN</td>\n",
       "      <td>NaN</td>\n",
       "      <td>NaN</td>\n",
       "      <td>...</td>\n",
       "      <td>NaN</td>\n",
       "      <td>NaN</td>\n",
       "      <td>NaN</td>\n",
       "      <td>NaN</td>\n",
       "      <td>NaN</td>\n",
       "      <td>NaN</td>\n",
       "      <td>NaN</td>\n",
       "      <td>NaN</td>\n",
       "      <td>NaN</td>\n",
       "      <td>NaN</td>\n",
       "    </tr>\n",
       "    <tr>\n",
       "      <th>location</th>\n",
       "      <td>ANCHORAGE, AK</td>\n",
       "      <td>NaN</td>\n",
       "      <td>NaN</td>\n",
       "      <td>NaN</td>\n",
       "      <td>NaN</td>\n",
       "      <td>NaN</td>\n",
       "      <td>NaN</td>\n",
       "      <td>NaN</td>\n",
       "      <td>NaN</td>\n",
       "      <td>NaN</td>\n",
       "      <td>...</td>\n",
       "      <td>NaN</td>\n",
       "      <td>NaN</td>\n",
       "      <td>NaN</td>\n",
       "      <td>NaN</td>\n",
       "      <td>NaN</td>\n",
       "      <td>NaN</td>\n",
       "      <td>NaN</td>\n",
       "      <td>NaN</td>\n",
       "      <td>NaN</td>\n",
       "      <td>NaN</td>\n",
       "    </tr>\n",
       "    <tr>\n",
       "      <th>country</th>\n",
       "      <td>United States</td>\n",
       "      <td>NaN</td>\n",
       "      <td>NaN</td>\n",
       "      <td>NaN</td>\n",
       "      <td>NaN</td>\n",
       "      <td>NaN</td>\n",
       "      <td>NaN</td>\n",
       "      <td>NaN</td>\n",
       "      <td>NaN</td>\n",
       "      <td>NaN</td>\n",
       "      <td>...</td>\n",
       "      <td>NaN</td>\n",
       "      <td>NaN</td>\n",
       "      <td>NaN</td>\n",
       "      <td>NaN</td>\n",
       "      <td>NaN</td>\n",
       "      <td>NaN</td>\n",
       "      <td>NaN</td>\n",
       "      <td>NaN</td>\n",
       "      <td>NaN</td>\n",
       "      <td>NaN</td>\n",
       "    </tr>\n",
       "    <tr>\n",
       "      <th>latitude</th>\n",
       "      <td>332739N</td>\n",
       "      <td>NaN</td>\n",
       "      <td>NaN</td>\n",
       "      <td>NaN</td>\n",
       "      <td>NaN</td>\n",
       "      <td>NaN</td>\n",
       "      <td>NaN</td>\n",
       "      <td>NaN</td>\n",
       "      <td>NaN</td>\n",
       "      <td>NaN</td>\n",
       "      <td>...</td>\n",
       "      <td>NaN</td>\n",
       "      <td>NaN</td>\n",
       "      <td>NaN</td>\n",
       "      <td>NaN</td>\n",
       "      <td>NaN</td>\n",
       "      <td>NaN</td>\n",
       "      <td>NaN</td>\n",
       "      <td>NaN</td>\n",
       "      <td>NaN</td>\n",
       "      <td>NaN</td>\n",
       "    </tr>\n",
       "    <tr>\n",
       "      <th>longitude</th>\n",
       "      <td>0112457W</td>\n",
       "      <td>NaN</td>\n",
       "      <td>NaN</td>\n",
       "      <td>NaN</td>\n",
       "      <td>NaN</td>\n",
       "      <td>NaN</td>\n",
       "      <td>NaN</td>\n",
       "      <td>NaN</td>\n",
       "      <td>NaN</td>\n",
       "      <td>NaN</td>\n",
       "      <td>...</td>\n",
       "      <td>NaN</td>\n",
       "      <td>NaN</td>\n",
       "      <td>NaN</td>\n",
       "      <td>NaN</td>\n",
       "      <td>NaN</td>\n",
       "      <td>NaN</td>\n",
       "      <td>NaN</td>\n",
       "      <td>NaN</td>\n",
       "      <td>NaN</td>\n",
       "      <td>NaN</td>\n",
       "    </tr>\n",
       "    <tr>\n",
       "      <th>airport_code</th>\n",
       "      <td>NONE</td>\n",
       "      <td>NaN</td>\n",
       "      <td>NaN</td>\n",
       "      <td>NaN</td>\n",
       "      <td>NaN</td>\n",
       "      <td>NaN</td>\n",
       "      <td>NaN</td>\n",
       "      <td>NaN</td>\n",
       "      <td>NaN</td>\n",
       "      <td>NaN</td>\n",
       "      <td>...</td>\n",
       "      <td>NaN</td>\n",
       "      <td>NaN</td>\n",
       "      <td>NaN</td>\n",
       "      <td>NaN</td>\n",
       "      <td>NaN</td>\n",
       "      <td>NaN</td>\n",
       "      <td>NaN</td>\n",
       "      <td>NaN</td>\n",
       "      <td>NaN</td>\n",
       "      <td>NaN</td>\n",
       "    </tr>\n",
       "    <tr>\n",
       "      <th>airport_name</th>\n",
       "      <td>Private</td>\n",
       "      <td>NaN</td>\n",
       "      <td>NaN</td>\n",
       "      <td>NaN</td>\n",
       "      <td>NaN</td>\n",
       "      <td>NaN</td>\n",
       "      <td>NaN</td>\n",
       "      <td>NaN</td>\n",
       "      <td>NaN</td>\n",
       "      <td>NaN</td>\n",
       "      <td>...</td>\n",
       "      <td>NaN</td>\n",
       "      <td>NaN</td>\n",
       "      <td>NaN</td>\n",
       "      <td>NaN</td>\n",
       "      <td>NaN</td>\n",
       "      <td>NaN</td>\n",
       "      <td>NaN</td>\n",
       "      <td>NaN</td>\n",
       "      <td>NaN</td>\n",
       "      <td>NaN</td>\n",
       "    </tr>\n",
       "    <tr>\n",
       "      <th>injury_severity</th>\n",
       "      <td>Non-Fatal</td>\n",
       "      <td>NaN</td>\n",
       "      <td>NaN</td>\n",
       "      <td>NaN</td>\n",
       "      <td>NaN</td>\n",
       "      <td>NaN</td>\n",
       "      <td>NaN</td>\n",
       "      <td>NaN</td>\n",
       "      <td>NaN</td>\n",
       "      <td>NaN</td>\n",
       "      <td>...</td>\n",
       "      <td>NaN</td>\n",
       "      <td>NaN</td>\n",
       "      <td>NaN</td>\n",
       "      <td>NaN</td>\n",
       "      <td>NaN</td>\n",
       "      <td>NaN</td>\n",
       "      <td>NaN</td>\n",
       "      <td>NaN</td>\n",
       "      <td>NaN</td>\n",
       "      <td>NaN</td>\n",
       "    </tr>\n",
       "    <tr>\n",
       "      <th>aircraft_damage</th>\n",
       "      <td>Substantial</td>\n",
       "      <td>NaN</td>\n",
       "      <td>NaN</td>\n",
       "      <td>NaN</td>\n",
       "      <td>NaN</td>\n",
       "      <td>NaN</td>\n",
       "      <td>NaN</td>\n",
       "      <td>NaN</td>\n",
       "      <td>NaN</td>\n",
       "      <td>NaN</td>\n",
       "      <td>...</td>\n",
       "      <td>NaN</td>\n",
       "      <td>NaN</td>\n",
       "      <td>NaN</td>\n",
       "      <td>NaN</td>\n",
       "      <td>NaN</td>\n",
       "      <td>NaN</td>\n",
       "      <td>NaN</td>\n",
       "      <td>NaN</td>\n",
       "      <td>NaN</td>\n",
       "      <td>NaN</td>\n",
       "    </tr>\n",
       "    <tr>\n",
       "      <th>aircraft_category</th>\n",
       "      <td>Airplane</td>\n",
       "      <td>NaN</td>\n",
       "      <td>NaN</td>\n",
       "      <td>NaN</td>\n",
       "      <td>NaN</td>\n",
       "      <td>NaN</td>\n",
       "      <td>NaN</td>\n",
       "      <td>NaN</td>\n",
       "      <td>NaN</td>\n",
       "      <td>NaN</td>\n",
       "      <td>...</td>\n",
       "      <td>NaN</td>\n",
       "      <td>NaN</td>\n",
       "      <td>NaN</td>\n",
       "      <td>NaN</td>\n",
       "      <td>NaN</td>\n",
       "      <td>NaN</td>\n",
       "      <td>NaN</td>\n",
       "      <td>NaN</td>\n",
       "      <td>NaN</td>\n",
       "      <td>NaN</td>\n",
       "    </tr>\n",
       "    <tr>\n",
       "      <th>registration_number</th>\n",
       "      <td>NONE</td>\n",
       "      <td>NaN</td>\n",
       "      <td>NaN</td>\n",
       "      <td>NaN</td>\n",
       "      <td>NaN</td>\n",
       "      <td>NaN</td>\n",
       "      <td>NaN</td>\n",
       "      <td>NaN</td>\n",
       "      <td>NaN</td>\n",
       "      <td>NaN</td>\n",
       "      <td>...</td>\n",
       "      <td>NaN</td>\n",
       "      <td>NaN</td>\n",
       "      <td>NaN</td>\n",
       "      <td>NaN</td>\n",
       "      <td>NaN</td>\n",
       "      <td>NaN</td>\n",
       "      <td>NaN</td>\n",
       "      <td>NaN</td>\n",
       "      <td>NaN</td>\n",
       "      <td>NaN</td>\n",
       "    </tr>\n",
       "    <tr>\n",
       "      <th>make</th>\n",
       "      <td>Cessna</td>\n",
       "      <td>NaN</td>\n",
       "      <td>NaN</td>\n",
       "      <td>NaN</td>\n",
       "      <td>NaN</td>\n",
       "      <td>NaN</td>\n",
       "      <td>NaN</td>\n",
       "      <td>NaN</td>\n",
       "      <td>NaN</td>\n",
       "      <td>NaN</td>\n",
       "      <td>...</td>\n",
       "      <td>NaN</td>\n",
       "      <td>NaN</td>\n",
       "      <td>NaN</td>\n",
       "      <td>NaN</td>\n",
       "      <td>NaN</td>\n",
       "      <td>NaN</td>\n",
       "      <td>NaN</td>\n",
       "      <td>NaN</td>\n",
       "      <td>NaN</td>\n",
       "      <td>NaN</td>\n",
       "    </tr>\n",
       "    <tr>\n",
       "      <th>model</th>\n",
       "      <td>152</td>\n",
       "      <td>NaN</td>\n",
       "      <td>NaN</td>\n",
       "      <td>NaN</td>\n",
       "      <td>NaN</td>\n",
       "      <td>NaN</td>\n",
       "      <td>NaN</td>\n",
       "      <td>NaN</td>\n",
       "      <td>NaN</td>\n",
       "      <td>NaN</td>\n",
       "      <td>...</td>\n",
       "      <td>NaN</td>\n",
       "      <td>NaN</td>\n",
       "      <td>NaN</td>\n",
       "      <td>NaN</td>\n",
       "      <td>NaN</td>\n",
       "      <td>NaN</td>\n",
       "      <td>NaN</td>\n",
       "      <td>NaN</td>\n",
       "      <td>NaN</td>\n",
       "      <td>NaN</td>\n",
       "    </tr>\n",
       "    <tr>\n",
       "      <th>amateur_built</th>\n",
       "      <td>No</td>\n",
       "      <td>NaN</td>\n",
       "      <td>NaN</td>\n",
       "      <td>NaN</td>\n",
       "      <td>NaN</td>\n",
       "      <td>NaN</td>\n",
       "      <td>NaN</td>\n",
       "      <td>NaN</td>\n",
       "      <td>NaN</td>\n",
       "      <td>NaN</td>\n",
       "      <td>...</td>\n",
       "      <td>NaN</td>\n",
       "      <td>NaN</td>\n",
       "      <td>NaN</td>\n",
       "      <td>NaN</td>\n",
       "      <td>NaN</td>\n",
       "      <td>NaN</td>\n",
       "      <td>NaN</td>\n",
       "      <td>NaN</td>\n",
       "      <td>NaN</td>\n",
       "      <td>NaN</td>\n",
       "    </tr>\n",
       "    <tr>\n",
       "      <th>number_of_engines</th>\n",
       "      <td>1.0</td>\n",
       "      <td>NaN</td>\n",
       "      <td>NaN</td>\n",
       "      <td>NaN</td>\n",
       "      <td>NaN</td>\n",
       "      <td>NaN</td>\n",
       "      <td>NaN</td>\n",
       "      <td>NaN</td>\n",
       "      <td>NaN</td>\n",
       "      <td>NaN</td>\n",
       "      <td>...</td>\n",
       "      <td>NaN</td>\n",
       "      <td>NaN</td>\n",
       "      <td>NaN</td>\n",
       "      <td>NaN</td>\n",
       "      <td>NaN</td>\n",
       "      <td>NaN</td>\n",
       "      <td>NaN</td>\n",
       "      <td>NaN</td>\n",
       "      <td>NaN</td>\n",
       "      <td>NaN</td>\n",
       "    </tr>\n",
       "    <tr>\n",
       "      <th>engine_type</th>\n",
       "      <td>Reciprocating</td>\n",
       "      <td>NaN</td>\n",
       "      <td>NaN</td>\n",
       "      <td>NaN</td>\n",
       "      <td>NaN</td>\n",
       "      <td>NaN</td>\n",
       "      <td>NaN</td>\n",
       "      <td>NaN</td>\n",
       "      <td>NaN</td>\n",
       "      <td>NaN</td>\n",
       "      <td>...</td>\n",
       "      <td>NaN</td>\n",
       "      <td>NaN</td>\n",
       "      <td>NaN</td>\n",
       "      <td>NaN</td>\n",
       "      <td>NaN</td>\n",
       "      <td>NaN</td>\n",
       "      <td>NaN</td>\n",
       "      <td>NaN</td>\n",
       "      <td>NaN</td>\n",
       "      <td>NaN</td>\n",
       "    </tr>\n",
       "    <tr>\n",
       "      <th>far_description</th>\n",
       "      <td>091</td>\n",
       "      <td>NaN</td>\n",
       "      <td>NaN</td>\n",
       "      <td>NaN</td>\n",
       "      <td>NaN</td>\n",
       "      <td>NaN</td>\n",
       "      <td>NaN</td>\n",
       "      <td>NaN</td>\n",
       "      <td>NaN</td>\n",
       "      <td>NaN</td>\n",
       "      <td>...</td>\n",
       "      <td>NaN</td>\n",
       "      <td>NaN</td>\n",
       "      <td>NaN</td>\n",
       "      <td>NaN</td>\n",
       "      <td>NaN</td>\n",
       "      <td>NaN</td>\n",
       "      <td>NaN</td>\n",
       "      <td>NaN</td>\n",
       "      <td>NaN</td>\n",
       "      <td>NaN</td>\n",
       "    </tr>\n",
       "    <tr>\n",
       "      <th>schedule</th>\n",
       "      <td>NSCH</td>\n",
       "      <td>NaN</td>\n",
       "      <td>NaN</td>\n",
       "      <td>NaN</td>\n",
       "      <td>NaN</td>\n",
       "      <td>NaN</td>\n",
       "      <td>NaN</td>\n",
       "      <td>NaN</td>\n",
       "      <td>NaN</td>\n",
       "      <td>NaN</td>\n",
       "      <td>...</td>\n",
       "      <td>NaN</td>\n",
       "      <td>NaN</td>\n",
       "      <td>NaN</td>\n",
       "      <td>NaN</td>\n",
       "      <td>NaN</td>\n",
       "      <td>NaN</td>\n",
       "      <td>NaN</td>\n",
       "      <td>NaN</td>\n",
       "      <td>NaN</td>\n",
       "      <td>NaN</td>\n",
       "    </tr>\n",
       "    <tr>\n",
       "      <th>purpose_of_flight</th>\n",
       "      <td>Personal</td>\n",
       "      <td>NaN</td>\n",
       "      <td>NaN</td>\n",
       "      <td>NaN</td>\n",
       "      <td>NaN</td>\n",
       "      <td>NaN</td>\n",
       "      <td>NaN</td>\n",
       "      <td>NaN</td>\n",
       "      <td>NaN</td>\n",
       "      <td>NaN</td>\n",
       "      <td>...</td>\n",
       "      <td>NaN</td>\n",
       "      <td>NaN</td>\n",
       "      <td>NaN</td>\n",
       "      <td>NaN</td>\n",
       "      <td>NaN</td>\n",
       "      <td>NaN</td>\n",
       "      <td>NaN</td>\n",
       "      <td>NaN</td>\n",
       "      <td>NaN</td>\n",
       "      <td>NaN</td>\n",
       "    </tr>\n",
       "    <tr>\n",
       "      <th>air_carrier</th>\n",
       "      <td>Pilot</td>\n",
       "      <td>NaN</td>\n",
       "      <td>NaN</td>\n",
       "      <td>NaN</td>\n",
       "      <td>NaN</td>\n",
       "      <td>NaN</td>\n",
       "      <td>NaN</td>\n",
       "      <td>NaN</td>\n",
       "      <td>NaN</td>\n",
       "      <td>NaN</td>\n",
       "      <td>...</td>\n",
       "      <td>NaN</td>\n",
       "      <td>NaN</td>\n",
       "      <td>NaN</td>\n",
       "      <td>NaN</td>\n",
       "      <td>NaN</td>\n",
       "      <td>NaN</td>\n",
       "      <td>NaN</td>\n",
       "      <td>NaN</td>\n",
       "      <td>NaN</td>\n",
       "      <td>NaN</td>\n",
       "    </tr>\n",
       "    <tr>\n",
       "      <th>total_fatal_injuries</th>\n",
       "      <td>0.0</td>\n",
       "      <td>NaN</td>\n",
       "      <td>NaN</td>\n",
       "      <td>NaN</td>\n",
       "      <td>NaN</td>\n",
       "      <td>NaN</td>\n",
       "      <td>NaN</td>\n",
       "      <td>NaN</td>\n",
       "      <td>NaN</td>\n",
       "      <td>NaN</td>\n",
       "      <td>...</td>\n",
       "      <td>NaN</td>\n",
       "      <td>NaN</td>\n",
       "      <td>NaN</td>\n",
       "      <td>NaN</td>\n",
       "      <td>NaN</td>\n",
       "      <td>NaN</td>\n",
       "      <td>NaN</td>\n",
       "      <td>NaN</td>\n",
       "      <td>NaN</td>\n",
       "      <td>NaN</td>\n",
       "    </tr>\n",
       "    <tr>\n",
       "      <th>total_serious_injuries</th>\n",
       "      <td>0.0</td>\n",
       "      <td>NaN</td>\n",
       "      <td>NaN</td>\n",
       "      <td>NaN</td>\n",
       "      <td>NaN</td>\n",
       "      <td>NaN</td>\n",
       "      <td>NaN</td>\n",
       "      <td>NaN</td>\n",
       "      <td>NaN</td>\n",
       "      <td>NaN</td>\n",
       "      <td>...</td>\n",
       "      <td>NaN</td>\n",
       "      <td>NaN</td>\n",
       "      <td>NaN</td>\n",
       "      <td>NaN</td>\n",
       "      <td>NaN</td>\n",
       "      <td>NaN</td>\n",
       "      <td>NaN</td>\n",
       "      <td>NaN</td>\n",
       "      <td>NaN</td>\n",
       "      <td>NaN</td>\n",
       "    </tr>\n",
       "    <tr>\n",
       "      <th>total_minor_injuries</th>\n",
       "      <td>0.0</td>\n",
       "      <td>NaN</td>\n",
       "      <td>NaN</td>\n",
       "      <td>NaN</td>\n",
       "      <td>NaN</td>\n",
       "      <td>NaN</td>\n",
       "      <td>NaN</td>\n",
       "      <td>NaN</td>\n",
       "      <td>NaN</td>\n",
       "      <td>NaN</td>\n",
       "      <td>...</td>\n",
       "      <td>NaN</td>\n",
       "      <td>NaN</td>\n",
       "      <td>NaN</td>\n",
       "      <td>NaN</td>\n",
       "      <td>NaN</td>\n",
       "      <td>NaN</td>\n",
       "      <td>NaN</td>\n",
       "      <td>NaN</td>\n",
       "      <td>NaN</td>\n",
       "      <td>NaN</td>\n",
       "    </tr>\n",
       "    <tr>\n",
       "      <th>total_uninjured</th>\n",
       "      <td>0.0</td>\n",
       "      <td>NaN</td>\n",
       "      <td>NaN</td>\n",
       "      <td>NaN</td>\n",
       "      <td>NaN</td>\n",
       "      <td>NaN</td>\n",
       "      <td>NaN</td>\n",
       "      <td>NaN</td>\n",
       "      <td>NaN</td>\n",
       "      <td>NaN</td>\n",
       "      <td>...</td>\n",
       "      <td>NaN</td>\n",
       "      <td>NaN</td>\n",
       "      <td>NaN</td>\n",
       "      <td>NaN</td>\n",
       "      <td>NaN</td>\n",
       "      <td>NaN</td>\n",
       "      <td>NaN</td>\n",
       "      <td>NaN</td>\n",
       "      <td>NaN</td>\n",
       "      <td>NaN</td>\n",
       "    </tr>\n",
       "    <tr>\n",
       "      <th>weather_condition</th>\n",
       "      <td>VMC</td>\n",
       "      <td>NaN</td>\n",
       "      <td>NaN</td>\n",
       "      <td>NaN</td>\n",
       "      <td>NaN</td>\n",
       "      <td>NaN</td>\n",
       "      <td>NaN</td>\n",
       "      <td>NaN</td>\n",
       "      <td>NaN</td>\n",
       "      <td>NaN</td>\n",
       "      <td>...</td>\n",
       "      <td>NaN</td>\n",
       "      <td>NaN</td>\n",
       "      <td>NaN</td>\n",
       "      <td>NaN</td>\n",
       "      <td>NaN</td>\n",
       "      <td>NaN</td>\n",
       "      <td>NaN</td>\n",
       "      <td>NaN</td>\n",
       "      <td>NaN</td>\n",
       "      <td>NaN</td>\n",
       "    </tr>\n",
       "    <tr>\n",
       "      <th>broad_phase_of_flight</th>\n",
       "      <td>Landing</td>\n",
       "      <td>NaN</td>\n",
       "      <td>NaN</td>\n",
       "      <td>NaN</td>\n",
       "      <td>NaN</td>\n",
       "      <td>NaN</td>\n",
       "      <td>NaN</td>\n",
       "      <td>NaN</td>\n",
       "      <td>NaN</td>\n",
       "      <td>NaN</td>\n",
       "      <td>...</td>\n",
       "      <td>NaN</td>\n",
       "      <td>NaN</td>\n",
       "      <td>NaN</td>\n",
       "      <td>NaN</td>\n",
       "      <td>NaN</td>\n",
       "      <td>NaN</td>\n",
       "      <td>NaN</td>\n",
       "      <td>NaN</td>\n",
       "      <td>NaN</td>\n",
       "      <td>NaN</td>\n",
       "    </tr>\n",
       "    <tr>\n",
       "      <th>report_status</th>\n",
       "      <td>Probable Cause</td>\n",
       "      <td>NaN</td>\n",
       "      <td>NaN</td>\n",
       "      <td>NaN</td>\n",
       "      <td>NaN</td>\n",
       "      <td>NaN</td>\n",
       "      <td>NaN</td>\n",
       "      <td>NaN</td>\n",
       "      <td>NaN</td>\n",
       "      <td>NaN</td>\n",
       "      <td>...</td>\n",
       "      <td>NaN</td>\n",
       "      <td>NaN</td>\n",
       "      <td>NaN</td>\n",
       "      <td>NaN</td>\n",
       "      <td>NaN</td>\n",
       "      <td>NaN</td>\n",
       "      <td>NaN</td>\n",
       "      <td>NaN</td>\n",
       "      <td>NaN</td>\n",
       "      <td>NaN</td>\n",
       "    </tr>\n",
       "    <tr>\n",
       "      <th>publication_date</th>\n",
       "      <td>25-09-2020</td>\n",
       "      <td>NaN</td>\n",
       "      <td>NaN</td>\n",
       "      <td>NaN</td>\n",
       "      <td>NaN</td>\n",
       "      <td>NaN</td>\n",
       "      <td>NaN</td>\n",
       "      <td>NaN</td>\n",
       "      <td>NaN</td>\n",
       "      <td>NaN</td>\n",
       "      <td>...</td>\n",
       "      <td>NaN</td>\n",
       "      <td>NaN</td>\n",
       "      <td>NaN</td>\n",
       "      <td>NaN</td>\n",
       "      <td>NaN</td>\n",
       "      <td>NaN</td>\n",
       "      <td>NaN</td>\n",
       "      <td>NaN</td>\n",
       "      <td>NaN</td>\n",
       "      <td>NaN</td>\n",
       "    </tr>\n",
       "  </tbody>\n",
       "</table>\n",
       "<p>31 rows × 26 columns</p>\n",
       "</div>"
      ],
      "text/plain": [
       "                                    0               1           2   \\\n",
       "event_id                20001212X19172  20001214X45071         NaN   \n",
       "investigation_type            Accident             NaN         NaN   \n",
       "accident_number             CEN22FA424      CEN22LA149  CEN22LA346   \n",
       "event_date                  1982-05-16      1984-06-30  2000-07-08   \n",
       "location                 ANCHORAGE, AK             NaN         NaN   \n",
       "country                  United States             NaN         NaN   \n",
       "latitude                       332739N             NaN         NaN   \n",
       "longitude                     0112457W             NaN         NaN   \n",
       "airport_code                      NONE             NaN         NaN   \n",
       "airport_name                   Private             NaN         NaN   \n",
       "injury_severity              Non-Fatal             NaN         NaN   \n",
       "aircraft_damage            Substantial             NaN         NaN   \n",
       "aircraft_category             Airplane             NaN         NaN   \n",
       "registration_number               NONE             NaN         NaN   \n",
       "make                            Cessna             NaN         NaN   \n",
       "model                              152             NaN         NaN   \n",
       "amateur_built                       No             NaN         NaN   \n",
       "number_of_engines                  1.0             NaN         NaN   \n",
       "engine_type              Reciprocating             NaN         NaN   \n",
       "far_description                    091             NaN         NaN   \n",
       "schedule                          NSCH             NaN         NaN   \n",
       "purpose_of_flight             Personal             NaN         NaN   \n",
       "air_carrier                      Pilot             NaN         NaN   \n",
       "total_fatal_injuries               0.0             NaN         NaN   \n",
       "total_serious_injuries             0.0             NaN         NaN   \n",
       "total_minor_injuries               0.0             NaN         NaN   \n",
       "total_uninjured                    0.0             NaN         NaN   \n",
       "weather_condition                  VMC             NaN         NaN   \n",
       "broad_phase_of_flight          Landing             NaN         NaN   \n",
       "report_status           Probable Cause             NaN         NaN   \n",
       "publication_date            25-09-2020             NaN         NaN   \n",
       "\n",
       "                                3           4           5           6   \\\n",
       "event_id                       NaN         NaN         NaN         NaN   \n",
       "investigation_type             NaN         NaN         NaN         NaN   \n",
       "accident_number         CEN23MA034  DCA22LA135  DCA22LA201  DCA22WA089   \n",
       "event_date                     NaN         NaN         NaN         NaN   \n",
       "location                       NaN         NaN         NaN         NaN   \n",
       "country                        NaN         NaN         NaN         NaN   \n",
       "latitude                       NaN         NaN         NaN         NaN   \n",
       "longitude                      NaN         NaN         NaN         NaN   \n",
       "airport_code                   NaN         NaN         NaN         NaN   \n",
       "airport_name                   NaN         NaN         NaN         NaN   \n",
       "injury_severity                NaN         NaN         NaN         NaN   \n",
       "aircraft_damage                NaN         NaN         NaN         NaN   \n",
       "aircraft_category              NaN         NaN         NaN         NaN   \n",
       "registration_number            NaN         NaN         NaN         NaN   \n",
       "make                           NaN         NaN         NaN         NaN   \n",
       "model                          NaN         NaN         NaN         NaN   \n",
       "amateur_built                  NaN         NaN         NaN         NaN   \n",
       "number_of_engines              NaN         NaN         NaN         NaN   \n",
       "engine_type                    NaN         NaN         NaN         NaN   \n",
       "far_description                NaN         NaN         NaN         NaN   \n",
       "schedule                       NaN         NaN         NaN         NaN   \n",
       "purpose_of_flight              NaN         NaN         NaN         NaN   \n",
       "air_carrier                    NaN         NaN         NaN         NaN   \n",
       "total_fatal_injuries           NaN         NaN         NaN         NaN   \n",
       "total_serious_injuries         NaN         NaN         NaN         NaN   \n",
       "total_minor_injuries           NaN         NaN         NaN         NaN   \n",
       "total_uninjured                NaN         NaN         NaN         NaN   \n",
       "weather_condition              NaN         NaN         NaN         NaN   \n",
       "broad_phase_of_flight          NaN         NaN         NaN         NaN   \n",
       "report_status                  NaN         NaN         NaN         NaN   \n",
       "publication_date               NaN         NaN         NaN         NaN   \n",
       "\n",
       "                                7           8           9   ...          16  \\\n",
       "event_id                       NaN         NaN         NaN  ...         NaN   \n",
       "investigation_type             NaN         NaN         NaN  ...         NaN   \n",
       "accident_number         DCA22WA130  DCA22WA158  DCA22WA167  ...  ERA22LA103   \n",
       "event_date                     NaN         NaN         NaN  ...         NaN   \n",
       "location                       NaN         NaN         NaN  ...         NaN   \n",
       "country                        NaN         NaN         NaN  ...         NaN   \n",
       "latitude                       NaN         NaN         NaN  ...         NaN   \n",
       "longitude                      NaN         NaN         NaN  ...         NaN   \n",
       "airport_code                   NaN         NaN         NaN  ...         NaN   \n",
       "airport_name                   NaN         NaN         NaN  ...         NaN   \n",
       "injury_severity                NaN         NaN         NaN  ...         NaN   \n",
       "aircraft_damage                NaN         NaN         NaN  ...         NaN   \n",
       "aircraft_category              NaN         NaN         NaN  ...         NaN   \n",
       "registration_number            NaN         NaN         NaN  ...         NaN   \n",
       "make                           NaN         NaN         NaN  ...         NaN   \n",
       "model                          NaN         NaN         NaN  ...         NaN   \n",
       "amateur_built                  NaN         NaN         NaN  ...         NaN   \n",
       "number_of_engines              NaN         NaN         NaN  ...         NaN   \n",
       "engine_type                    NaN         NaN         NaN  ...         NaN   \n",
       "far_description                NaN         NaN         NaN  ...         NaN   \n",
       "schedule                       NaN         NaN         NaN  ...         NaN   \n",
       "purpose_of_flight              NaN         NaN         NaN  ...         NaN   \n",
       "air_carrier                    NaN         NaN         NaN  ...         NaN   \n",
       "total_fatal_injuries           NaN         NaN         NaN  ...         NaN   \n",
       "total_serious_injuries         NaN         NaN         NaN  ...         NaN   \n",
       "total_minor_injuries           NaN         NaN         NaN  ...         NaN   \n",
       "total_uninjured                NaN         NaN         NaN  ...         NaN   \n",
       "weather_condition              NaN         NaN         NaN  ...         NaN   \n",
       "broad_phase_of_flight          NaN         NaN         NaN  ...         NaN   \n",
       "report_status                  NaN         NaN         NaN  ...         NaN   \n",
       "publication_date               NaN         NaN         NaN  ...         NaN   \n",
       "\n",
       "                                17          18          19          20  \\\n",
       "event_id                       NaN         NaN         NaN         NaN   \n",
       "investigation_type             NaN         NaN         NaN         NaN   \n",
       "accident_number         ERA22LA119  ERA22LA364  ERA22LA379  GAA22WA241   \n",
       "event_date                     NaN         NaN         NaN         NaN   \n",
       "location                       NaN         NaN         NaN         NaN   \n",
       "country                        NaN         NaN         NaN         NaN   \n",
       "latitude                       NaN         NaN         NaN         NaN   \n",
       "longitude                      NaN         NaN         NaN         NaN   \n",
       "airport_code                   NaN         NaN         NaN         NaN   \n",
       "airport_name                   NaN         NaN         NaN         NaN   \n",
       "injury_severity                NaN         NaN         NaN         NaN   \n",
       "aircraft_damage                NaN         NaN         NaN         NaN   \n",
       "aircraft_category              NaN         NaN         NaN         NaN   \n",
       "registration_number            NaN         NaN         NaN         NaN   \n",
       "make                           NaN         NaN         NaN         NaN   \n",
       "model                          NaN         NaN         NaN         NaN   \n",
       "amateur_built                  NaN         NaN         NaN         NaN   \n",
       "number_of_engines              NaN         NaN         NaN         NaN   \n",
       "engine_type                    NaN         NaN         NaN         NaN   \n",
       "far_description                NaN         NaN         NaN         NaN   \n",
       "schedule                       NaN         NaN         NaN         NaN   \n",
       "purpose_of_flight              NaN         NaN         NaN         NaN   \n",
       "air_carrier                    NaN         NaN         NaN         NaN   \n",
       "total_fatal_injuries           NaN         NaN         NaN         NaN   \n",
       "total_serious_injuries         NaN         NaN         NaN         NaN   \n",
       "total_minor_injuries           NaN         NaN         NaN         NaN   \n",
       "total_uninjured                NaN         NaN         NaN         NaN   \n",
       "weather_condition              NaN         NaN         NaN         NaN   \n",
       "broad_phase_of_flight          NaN         NaN         NaN         NaN   \n",
       "report_status                  NaN         NaN         NaN         NaN   \n",
       "publication_date               NaN         NaN         NaN         NaN   \n",
       "\n",
       "                                21          22          23          24  \\\n",
       "event_id                       NaN         NaN         NaN         NaN   \n",
       "investigation_type             NaN         NaN         NaN         NaN   \n",
       "accident_number         WPR22FA309  WPR22LA143  WPR22LA201  WPR23LA041   \n",
       "event_date                     NaN         NaN         NaN         NaN   \n",
       "location                       NaN         NaN         NaN         NaN   \n",
       "country                        NaN         NaN         NaN         NaN   \n",
       "latitude                       NaN         NaN         NaN         NaN   \n",
       "longitude                      NaN         NaN         NaN         NaN   \n",
       "airport_code                   NaN         NaN         NaN         NaN   \n",
       "airport_name                   NaN         NaN         NaN         NaN   \n",
       "injury_severity                NaN         NaN         NaN         NaN   \n",
       "aircraft_damage                NaN         NaN         NaN         NaN   \n",
       "aircraft_category              NaN         NaN         NaN         NaN   \n",
       "registration_number            NaN         NaN         NaN         NaN   \n",
       "make                           NaN         NaN         NaN         NaN   \n",
       "model                          NaN         NaN         NaN         NaN   \n",
       "amateur_built                  NaN         NaN         NaN         NaN   \n",
       "number_of_engines              NaN         NaN         NaN         NaN   \n",
       "engine_type                    NaN         NaN         NaN         NaN   \n",
       "far_description                NaN         NaN         NaN         NaN   \n",
       "schedule                       NaN         NaN         NaN         NaN   \n",
       "purpose_of_flight              NaN         NaN         NaN         NaN   \n",
       "air_carrier                    NaN         NaN         NaN         NaN   \n",
       "total_fatal_injuries           NaN         NaN         NaN         NaN   \n",
       "total_serious_injuries         NaN         NaN         NaN         NaN   \n",
       "total_minor_injuries           NaN         NaN         NaN         NaN   \n",
       "total_uninjured                NaN         NaN         NaN         NaN   \n",
       "weather_condition              NaN         NaN         NaN         NaN   \n",
       "broad_phase_of_flight          NaN         NaN         NaN         NaN   \n",
       "report_status                  NaN         NaN         NaN         NaN   \n",
       "publication_date               NaN         NaN         NaN         NaN   \n",
       "\n",
       "                                25  \n",
       "event_id                       NaN  \n",
       "investigation_type             NaN  \n",
       "accident_number         WPR23LA045  \n",
       "event_date                     NaN  \n",
       "location                       NaN  \n",
       "country                        NaN  \n",
       "latitude                       NaN  \n",
       "longitude                      NaN  \n",
       "airport_code                   NaN  \n",
       "airport_name                   NaN  \n",
       "injury_severity                NaN  \n",
       "aircraft_damage                NaN  \n",
       "aircraft_category              NaN  \n",
       "registration_number            NaN  \n",
       "make                           NaN  \n",
       "model                          NaN  \n",
       "amateur_built                  NaN  \n",
       "number_of_engines              NaN  \n",
       "engine_type                    NaN  \n",
       "far_description                NaN  \n",
       "schedule                       NaN  \n",
       "purpose_of_flight              NaN  \n",
       "air_carrier                    NaN  \n",
       "total_fatal_injuries           NaN  \n",
       "total_serious_injuries         NaN  \n",
       "total_minor_injuries           NaN  \n",
       "total_uninjured                NaN  \n",
       "weather_condition              NaN  \n",
       "broad_phase_of_flight          NaN  \n",
       "report_status                  NaN  \n",
       "publication_date               NaN  \n",
       "\n",
       "[31 rows x 26 columns]"
      ]
     },
     "execution_count": 13,
     "metadata": {},
     "output_type": "execute_result"
    }
   ],
   "source": [
    "aviation_df.mode().T"
   ]
  },
  {
   "cell_type": "markdown",
   "metadata": {},
   "source": [
    "# Data Cleaning"
   ]
  },
  {
   "cell_type": "code",
   "execution_count": 14,
   "metadata": {},
   "outputs": [],
   "source": [
    "def column_info(dataframe, column):\n",
    "    \"\"\"\n",
    "    Provides a view into the row information provided in each column\n",
    "    -\n",
    "    Input:\n",
    "    dataframe : Pandas DataFrame\n",
    "    columns_list: list \n",
    "    -\n",
    "    Output:\n",
    "        Prints:\n",
    "            - A preview of the first 5 values in the column.\n",
    "            - Value counts of the column.\n",
    "            - The percentage of missing values in the column.\n",
    "    \"\"\"\n",
    "    preview = dataframe[column].head()\n",
    "    value_counts = dataframe[column].value_counts()\n",
    "    percent_missing = dataframe[column].isna().sum() * 100 / len(dataframe)\n",
    "    \n",
    "    print(\"Preview of the first 5 rows in the column:\")\n",
    "    print(preview)\n",
    "    print(\"\\nValue counts of the column:\")\n",
    "    print(value_counts)\n",
    "    print(\"\\nPercentage of missing values in the column:\")\n",
    "    print(f\"{percent_missing:.2f}%\") "
   ]
  },
  {
   "cell_type": "markdown",
   "metadata": {},
   "source": [
    "## Normalizing Columns"
   ]
  },
  {
   "cell_type": "markdown",
   "metadata": {},
   "source": [
    "For the following columns, we are normalizing the casing to account of duplicated entries."
   ]
  },
  {
   "cell_type": "code",
   "execution_count": 15,
   "metadata": {},
   "outputs": [],
   "source": [
    "# List of columns\n",
    "columns_to_lowercase = [\n",
    "    'investigation_type',\n",
    "    'injury_severity',\n",
    "    'aircraft_damage',\n",
    "    'aircraft_category',\n",
    "    'make',\n",
    "    'amateur_built',\n",
    "    'engine_type',\n",
    "    'purpose_of_flight',\n",
    "    'broad_phase_of_flight' \n",
    "]\n",
    "\n",
    "# Convert the columns to lowercase\n",
    "for column in columns_to_lowercase:\n",
    "    aviation_df[column] = aviation_df[column].str.lower()"
   ]
  },
  {
   "cell_type": "markdown",
   "metadata": {},
   "source": [
    "## Filtering the Data "
   ]
  },
  {
   "cell_type": "markdown",
   "metadata": {},
   "source": [
    "### location and country"
   ]
  },
  {
   "cell_type": "code",
   "execution_count": 16,
   "metadata": {},
   "outputs": [
    {
     "name": "stdout",
     "output_type": "stream",
     "text": [
      "Preview of the first 5 rows in the column:\n",
      "0    MOOSE CREEK, ID\n",
      "1     BRIDGEPORT, CA\n",
      "2      Saltville, VA\n",
      "3         EUREKA, CA\n",
      "4         Canton, OH\n",
      "Name: location, dtype: object\n",
      "\n",
      "Value counts of the column:\n",
      "ANCHORAGE, AK          434\n",
      "MIAMI, FL              200\n",
      "ALBUQUERQUE, NM        196\n",
      "HOUSTON, TX            193\n",
      "CHICAGO, IL            184\n",
      "                      ... \n",
      "Woodinville, WA          1\n",
      "HEPHZIBAH, GA            1\n",
      "Hoxie, KS                1\n",
      "PORT SHELDON TW, MI      1\n",
      "Plantation Key, FL       1\n",
      "Name: location, Length: 27757, dtype: int64\n",
      "\n",
      "Percentage of missing values in the column:\n",
      "0.06%\n"
     ]
    }
   ],
   "source": [
    "# Preview the row entries for the column\n",
    "column_info(aviation_df,'location')"
   ]
  },
  {
   "cell_type": "code",
   "execution_count": 17,
   "metadata": {},
   "outputs": [
    {
     "data": {
      "text/plain": [
       "52"
      ]
     },
     "execution_count": 17,
     "metadata": {},
     "output_type": "execute_result"
    }
   ],
   "source": [
    "# Check for missing values\n",
    "aviation_df['location'].isna().sum()"
   ]
  },
  {
   "cell_type": "code",
   "execution_count": 18,
   "metadata": {},
   "outputs": [
    {
     "data": {
      "text/plain": [
       "33        NEAR LAS VEGAS, NV\n",
       "50       NEAR BAKERSFIEL, CA\n",
       "75          NEAR BOZEMAN, MT\n",
       "95          NEAR NUIQSUT, AK\n",
       "127         NEAR LANSING, MI\n",
       "                ...         \n",
       "24104     NEAR TALKEETNA, AK\n",
       "24268      NEAR COLD BAY, AK\n",
       "28190       NEAR ILIAMNA, AK\n",
       "33498      NEAR SKWENTNA, AK\n",
       "48186      NEAR MUSKEGON, MI\n",
       "Name: location, Length: 167, dtype: object"
      ]
     },
     "execution_count": 18,
     "metadata": {},
     "output_type": "execute_result"
    }
   ],
   "source": [
    "# Row entry review\n",
    "\n",
    "# Copy the DataFrame so no data is lost\n",
    "aviation_df_copy = aviation_df.copy()\n",
    "\n",
    "# Fill NaN values with a blank string\n",
    "aviation_df_copy['location'].fillna('', inplace=True)\n",
    "\n",
    "# Apply the filter\n",
    "aviation_df_copy[aviation_df_copy['location'].str.contains('NEAR')]['location']"
   ]
  },
  {
   "cell_type": "code",
   "execution_count": 19,
   "metadata": {},
   "outputs": [
    {
     "data": {
      "text/plain": [
       "ATLANTIC OCEAN                   81\n",
       "SAN JUAN                         53\n",
       "London, United Kingdom           48\n",
       "PACIFIC OCEAN                    45\n",
       "GULF OF MEXICO                   30\n",
       "                                 ..\n",
       "Taylor, Canada                    1\n",
       "Swellendam, South Africa          1\n",
       "Konigswinter, Germany             1\n",
       "Bandung, Indonesia, Indonesia     1\n",
       "Spain, Spain                      1\n",
       "Name: location, Length: 4731, dtype: int64"
      ]
     },
     "execution_count": 19,
     "metadata": {},
     "output_type": "execute_result"
    }
   ],
   "source": [
    "# Show if there is a country listed for location values that are NaNs\n",
    "aviation_df['location'][aviation_df['country'] != 'United States'].value_counts()"
   ]
  },
  {
   "cell_type": "markdown",
   "metadata": {},
   "source": [
    "**Review**\n",
    "\n",
    "The location column while providing more detail than the country file has some issues.\n",
    "\n",
    "First is that not every entry has an accurate city location.\n",
    "\n",
    "Second is that for foreign countries, there are multiple comma delimters indentifying the city. Additionally, the country is listed inside of the location.\n",
    "\n",
    "**Examples**\n",
    "\n",
    "- Los Mochis, Sinaloa, Mexico\n",
    "- Ledbury, Herefordshire, United Kingdom\n",
    "- Panama City, Panama\n",
    "- Ji'an City Jiangxi Province, China\n",
    "\n",
    "**Recommendation**\n",
    "\n",
    "- Filter the data set so that we only have US flights.\n",
    "- Create a state category so we can reliably use the consistent information for location.\n",
    "- Drop the country and location columns. \n",
    "\n",
    "**Action**"
   ]
  },
  {
   "cell_type": "code",
   "execution_count": 20,
   "metadata": {},
   "outputs": [],
   "source": [
    "# Filter for only the rows the country is the United States\n",
    "aviation_df = aviation_df[aviation_df['country'] == 'United States']\n",
    "\n",
    "# Drop NaN values from location\n",
    "aviation_df.dropna(subset=['location'], inplace=True)\n",
    "\n",
    "# Create a new column 'state' that holds the state information from the location column\n",
    "aviation_df['state'] = aviation_df['location'].apply(lambda x: x.split(',')[-1].strip())\n",
    "\n",
    "# Drop the 'location' column\n",
    "aviation_df.drop(columns=['location'], inplace=True)\n",
    "\n",
    "# Drop the 'country' column\n",
    "aviation_df.drop(columns=['country'], inplace=True)\n",
    "\n",
    "# Merge the csv DataFrames on the 'state' column in aviation_df and 'Abbreviation' column in state_codes_df\n",
    "aviation_df = pd.merge(aviation_df, state_codes_df, left_on='state', right_on='Abbreviation', how='inner')\n",
    "\n",
    "# Drop the 'Abbreviation' column as it's no longer needed\n",
    "aviation_df.drop(columns=['Abbreviation'], inplace=True)\n",
    "\n",
    "# Drop the 'Abbreviation' column as it's no longer needed\n",
    "aviation_df.drop(columns=['US_State'], inplace=True)"
   ]
  },
  {
   "cell_type": "markdown",
   "metadata": {},
   "source": [
    "### investigation_type"
   ]
  },
  {
   "cell_type": "code",
   "execution_count": 21,
   "metadata": {},
   "outputs": [
    {
     "name": "stdout",
     "output_type": "stream",
     "text": [
      "Preview of the first 5 rows in the column:\n",
      "0    accident\n",
      "1    accident\n",
      "2    accident\n",
      "3    accident\n",
      "4    incident\n",
      "Name: investigation_type, dtype: object\n",
      "\n",
      "Value counts of the column:\n",
      "accident    79826\n",
      "incident     2327\n",
      "Name: investigation_type, dtype: int64\n",
      "\n",
      "Percentage of missing values in the column:\n",
      "0.00%\n"
     ]
    }
   ],
   "source": [
    "# Preview the row entries for the column\n",
    "column_info(aviation_df,'investigation_type')"
   ]
  },
  {
   "cell_type": "markdown",
   "metadata": {},
   "source": [
    "**Review**\n",
    "\n",
    "Events are classified as either being accidents or incidents. \n",
    "\n",
    "According to the Code of Federal Regulations, \"an accident is defined as an occurrence associated with the operation of an aircraft which takes place between the time any person boards the aircraft with the intention of flight and all such persons have disembarked, and in which any person suffers death or serious injury, or in which the aircraft receives substantial damage. For purposes of this part, the definition of “aircraft accident” includes “unmanned aircraft accident,” as defined herein.\"\n",
    "\n",
    "An incident is defined as \"an occurrence other than an accident, associated with the operation of an aircraft, which affects or could affect the safety of operations.\"\n",
    "\n",
    "https://www.ecfr.gov/current/title-49/subtitle-B/chapter-VIII/part-830/subpart-A/section-830.2\n",
    "\n",
    "**Recommendation**\n",
    "\n",
    "Narrow our search to only include records that are labeled as accident. \n",
    "- This would result in about 5% of the total data being dropped.\n",
    "\n",
    "**Action**"
   ]
  },
  {
   "cell_type": "code",
   "execution_count": 22,
   "metadata": {},
   "outputs": [],
   "source": [
    "# Filter the event_id column for only accidents\n",
    "aviation_df = aviation_df[aviation_df['investigation_type'] != 'incident']"
   ]
  },
  {
   "cell_type": "markdown",
   "metadata": {},
   "source": [
    "## Analysis for Columns to Drop"
   ]
  },
  {
   "cell_type": "markdown",
   "metadata": {},
   "source": [
    "### Columns with Unique Identifiers"
   ]
  },
  {
   "cell_type": "markdown",
   "metadata": {},
   "source": [
    "- event_id\n",
    "    - The event_id serves as a unqiue indentifier for each row entry. These are for reference to search the event on the NTSB aviation accident database.\n",
    "- accident_number\n",
    "    - The accident_number serves as a unqiue indentifier for each row entry. These are for reference to search the event on the NTSB aviation accident database.\n",
    "- registration_number\n",
    "    - It is unclear why there is missing values or duplicated values inside of this column as one would assume that every aircrafts registration number would be unique.\n",
    "    - No documentation on this column could be located to provide further information."
   ]
  },
  {
   "cell_type": "markdown",
   "metadata": {},
   "source": [
    "### Columns with missing values above 50%"
   ]
  },
  {
   "cell_type": "markdown",
   "metadata": {},
   "source": [
    "**Overview**\n",
    "\n",
    "These columns contain too much missing data. Additionally, they are not pertinent to the business question. \n",
    "\n",
    "**Specific Column Information**\n",
    "\n",
    "- latitude\n",
    "- longitude\n",
    "- far_description\n",
    "    - The column contains references to the Federal Aviation Regulations (FARs) or similar regulatory categories. The FARs are a set of rules prescribed by the Federal Aviation Administration (FAA) governing all aviation activities in the United States.\n",
    "    - The values are not normalized and contain duplicates.\n",
    "     - Examples:\n",
    "        - Part 91: General Aviation\n",
    "            - Covers general operating and flight rules for all aircraft not governed by other specific parts (e.g., private pilots, corporate flights, etc.).\n",
    "        - PUBU: Public Use\n",
    "             - Refers to aircraft operated by government agencies or other public entities for official purposes.\n",
    "        - https://www.faa.gov/hazmat/air_carriers/operations\n",
    "        - https://www.ecfr.gov/current/title-14\n",
    "- schedule\n",
    "    - No documentation on this column could be located to provide further information."
   ]
  },
  {
   "cell_type": "markdown",
   "metadata": {},
   "source": [
    "### Columns with insignficant data in reference to business question"
   ]
  },
  {
   "cell_type": "markdown",
   "metadata": {},
   "source": [
    "**Overview**\n",
    "\n",
    "These columns while providing interesting information do not provide pertinent information in relation to the busines question. \n",
    "\n",
    "- airport_code\n",
    "- airport_name\n",
    "- air_carrier\n",
    "- publication_date"
   ]
  },
  {
   "cell_type": "markdown",
   "metadata": {},
   "source": [
    "### Action to Drop Columns"
   ]
  },
  {
   "cell_type": "code",
   "execution_count": 23,
   "metadata": {},
   "outputs": [],
   "source": [
    "# drop the columns that are not useful for analysis\n",
    "columns_to_drop = [\n",
    "    'event_id',\n",
    "    'accident_number',\n",
    "    'latitude',\n",
    "    'longitude',\n",
    "    'airport_code',\n",
    "    'airport_name',\n",
    "    'registration_number',\n",
    "    'far_description',\n",
    "    'schedule',\n",
    "    'air_carrier',\n",
    "    'publication_date',\n",
    "]\n",
    "\n",
    "aviation_df.drop(columns=columns_to_drop, inplace=True)"
   ]
  },
  {
   "cell_type": "markdown",
   "metadata": {},
   "source": [
    "## Analysis for Dropping Row NaN's"
   ]
  },
  {
   "cell_type": "markdown",
   "metadata": {},
   "source": [
    "### make and model"
   ]
  },
  {
   "cell_type": "markdown",
   "metadata": {},
   "source": [
    "**Overview**\n",
    "\n",
    "We want to ensure there is a make and model for every row element. If there is no make and mode, we cannot give a recommendation to the business. \n",
    "\n",
    "**Action**"
   ]
  },
  {
   "cell_type": "code",
   "execution_count": 24,
   "metadata": {},
   "outputs": [],
   "source": [
    "# Drop missing values inside of the 'make' column\n",
    "aviation_df.dropna(subset=['make', 'model'], inplace=True)"
   ]
  },
  {
   "cell_type": "markdown",
   "metadata": {},
   "source": [
    "## Analysis for Columns to Replace NaN's"
   ]
  },
  {
   "cell_type": "markdown",
   "metadata": {},
   "source": [
    "### Columns with no pre-existing unknown category"
   ]
  },
  {
   "cell_type": "markdown",
   "metadata": {},
   "source": [
    "For each of these columns, there are no pre-existing unknown or other categories. \n",
    "\n",
    "As such, we are filling the NaN values with an 'unknown' string. "
   ]
  },
  {
   "cell_type": "code",
   "execution_count": 25,
   "metadata": {},
   "outputs": [],
   "source": [
    "columns_to_replace_with_unknown = [\n",
    "    'purpose_of_flight',\n",
    "    'report_status',\n",
    "    'aircraft_damage',\n",
    "    'aircraft_category',\n",
    "    'model',\n",
    "    'amateur_built'\n",
    "]\n",
    "\n",
    "aviation_df[columns_to_replace_with_unknown] = aviation_df[columns_to_replace_with_unknown].fillna('unknown')"
   ]
  },
  {
   "cell_type": "markdown",
   "metadata": {},
   "source": [
    "### Columns with pre-existing unknown category (UNK, Unknown, Other)"
   ]
  },
  {
   "cell_type": "code",
   "execution_count": 26,
   "metadata": {},
   "outputs": [],
   "source": [
    "# find Columns with pre-existing unknown category (UNK, Unknown, Other, None) and replace them with 'unknown'\n",
    "columns_to_replace_with_unknown = [\n",
    "    'investigation_type',\n",
    "    'event_date',\n",
    "    'injury_severity', \n",
    "    'aircraft_damage',\n",
    "    'aircraft_category',\n",
    "    'make',\n",
    "    'model',\n",
    "    'amateur_built',\n",
    "    'engine_type',\n",
    "    'purpose_of_flight',\n",
    "    'weather_condition',\n",
    "    'broad_phase_of_flight',\n",
    "    'report_status'\n",
    "]\n",
    "\n",
    "replace_values = ['unk', 'unknown', 'other', 'none', 'unavailable', np.nan]\n",
    "\n",
    "aviation_df[columns_to_replace_with_unknown] = aviation_df[columns_to_replace_with_unknown].applymap(\n",
    "    lambda x: 'unknown' if isinstance(x, str) and x.lower() in replace_values or pd.isna(x) else x)\n"
   ]
  },
  {
   "cell_type": "markdown",
   "metadata": {},
   "source": [
    "## Imputing Numerical Column Values"
   ]
  },
  {
   "cell_type": "markdown",
   "metadata": {},
   "source": [
    "### total_fatal_injuries, total_serious_injuries, total_minor_injuries and total_uninjured"
   ]
  },
  {
   "cell_type": "markdown",
   "metadata": {},
   "source": [
    "**Overview**\n",
    "\n",
    "The total_fatal_injuries, total_serious_injuries, total_minor_injuries, and total_uninjured columns were replaced with the median values of the column."
   ]
  },
  {
   "cell_type": "code",
   "execution_count": 27,
   "metadata": {},
   "outputs": [],
   "source": [
    "injury_columns = [\n",
    "    'total_fatal_injuries', \n",
    "    'total_serious_injuries', \n",
    "    'total_minor_injuries', \n",
    "    'total_uninjured'\n",
    "]"
   ]
  },
  {
   "cell_type": "code",
   "execution_count": 28,
   "metadata": {},
   "outputs": [
    {
     "data": {
      "image/png": "[encoded data removed]",
      "text/plain": [
       "<Figure size 864x720 with 4 Axes>"
      ]
     },
     "metadata": {
      "needs_background": "light"
     },
     "output_type": "display_data"
    }
   ],
   "source": [
    "# Create subplots with 2 rows and 2 columns\n",
    "fig, axes = plt.subplots(2, 2, figsize=(12, 10))\n",
    "\n",
    "# Flatten the axes array for easy indexing\n",
    "axes = axes.flatten()\n",
    "\n",
    "# Iterate over each column and plot a histogram\n",
    "for i, column in enumerate(injury_columns):\n",
    "    # Drop NaN values before plotting\n",
    "    data = aviation_df[column].dropna()\n",
    "    \n",
    "    # Plot histogram\n",
    "    axes[i].hist(data, bins=100, color='skyblue', edgecolor='black')\n",
    "    \n",
    "    # Calculate mean and median\n",
    "    mean_val = data.mean()\n",
    "    median_val = data.median()\n",
    "    \n",
    "    # Draw vertical lines for mean and median\n",
    "    axes[i].axvline(mean_val, color='red', linestyle='--', linewidth=1, label=f'Mean: {mean_val:.2f}')\n",
    "    axes[i].axvline(median_val, color='blue', linestyle='-', linewidth=1, label=f'Median: {median_val:.2f}')\n",
    "    \n",
    "    # Set title for each subplot\n",
    "    axes[i].set_title(f'Histogram of {column}')\n",
    "    \n",
    "    # Set labels for x and y axes\n",
    "    axes[i].set_xlabel(column)\n",
    "    axes[i].set_ylabel('Frequency')\n",
    "    \n",
    "    # Add legend\n",
    "    axes[i].legend()\n",
    "\n",
    "# Adjust layout to prevent overlap\n",
    "plt.tight_layout()\n",
    "\n",
    "# Show plot\n",
    "plt.show()\n"
   ]
  },
  {
   "cell_type": "markdown",
   "metadata": {},
   "source": [
    "**Overview**\n",
    "\n",
    "Given the positve skew of each column, we will impute the missing values with the median. \n",
    "\n",
    "**Action**"
   ]
  },
  {
   "cell_type": "code",
   "execution_count": 29,
   "metadata": {},
   "outputs": [],
   "source": [
    "# Imputing the missing values with the median\n",
    "aviation_df[injury_columns] = aviation_df[injury_columns].apply(lambda x: x.fillna(x.median()))"
   ]
  },
  {
   "cell_type": "code",
   "execution_count": 30,
   "metadata": {},
   "outputs": [],
   "source": [
    "# Creating 'total_injuries' column\n",
    "aviation_df['total_injuries'] = aviation_df[\n",
    "    ['total_fatal_injuries', \n",
    "     'total_serious_injuries', \n",
    "     'total_minor_injuries'\n",
    "    ]\n",
    "].sum(axis=1)"
   ]
  },
  {
   "cell_type": "markdown",
   "metadata": {},
   "source": [
    "### number_of_engines"
   ]
  },
  {
   "cell_type": "markdown",
   "metadata": {},
   "source": [
    "**Overview**\n",
    "\n",
    "The number_of_engines had to be done differently because, it would be better to be true to the data, because it is impossible to correlate the number of engines in a plane.\n",
    "\n",
    "Big planes could have 1 engine, while another big plane of the same sizes could have 2 or more engines"
   ]
  },
  {
   "cell_type": "code",
   "execution_count": 31,
   "metadata": {},
   "outputs": [
    {
     "data": {
      "image/png": "[encoded data removed]",
      "text/plain": [
       "<Figure size 720x432 with 1 Axes>"
      ]
     },
     "metadata": {
      "needs_background": "light"
     },
     "output_type": "display_data"
    }
   ],
   "source": [
    "# Get values for histogram\n",
    "value_counts = aviation_df['number_of_engines'].value_counts().sort_index()\n",
    "\n",
    "# Calculate mean and median\n",
    "mean_num_engines = aviation_df['number_of_engines'].mean()\n",
    "median_num_engines = aviation_df['number_of_engines'].median()\n",
    "\n",
    "# Plot a histogram of the value counts\n",
    "plt.figure(figsize=(10, 6))\n",
    "value_counts.plot(kind='bar')\n",
    "plt.xlabel('Number of Engines')\n",
    "plt.ylabel('Frequency')\n",
    "plt.title('Histogram of Number of Engines')\n",
    "plt.xticks(rotation=0)\n",
    "\n",
    "# Add vertical lines for mean and median\n",
    "plt.axvline(x=mean_num_engines, color='red', linestyle='--', linewidth=1, label=f'Mean: {mean_num_engines:.2f}')\n",
    "plt.axvline(x=median_num_engines, color='blue', linestyle='-', linewidth=1, label=f'Median: {median_num_engines:.2f}')\n",
    "\n",
    "# Add legend\n",
    "plt.legend()\n",
    "\n",
    "# Show the plot\n",
    "plt.show()"
   ]
  },
  {
   "cell_type": "markdown",
   "metadata": {},
   "source": [
    "**Review**\n",
    "\n",
    "The column is missing values. \n",
    "\n",
    "**Recommendation**\n",
    "\n",
    "We could fill the missing values with the median value, however since passing the median will falsely represent the data, we will treat the column as categorical data. \n",
    "\n",
    "We will the column type to object and fill the missing values with an unknown category.\n",
    "\n",
    "**Action**"
   ]
  },
  {
   "cell_type": "code",
   "execution_count": 32,
   "metadata": {},
   "outputs": [],
   "source": [
    "aviation_df['number_of_engines'] = aviation_df['number_of_engines'].fillna('unknown')"
   ]
  },
  {
   "cell_type": "markdown",
   "metadata": {},
   "source": [
    "### Adding New Columns and Cleaning Individual Columns"
   ]
  },
  {
   "cell_type": "markdown",
   "metadata": {},
   "source": [
    "#### New Columns"
   ]
  },
  {
   "cell_type": "code",
   "execution_count": 33,
   "metadata": {},
   "outputs": [],
   "source": [
    "# Adding 'total_injuries' column\n",
    "aviation_df['total_injuries'] = (\n",
    "    aviation_df['total_fatal_injuries'] +\n",
    "    aviation_df['total_serious_injuries'] +\n",
    "    aviation_df['total_minor_injuries']\n",
    ")\n",
    "\n",
    "# Adding 'year', 'month', and 'day' columns\n",
    "aviation_df['event_date'] = pd.to_datetime(aviation_df['event_date'])\n",
    "aviation_df['year'] = aviation_df['event_date'].dt.year\n",
    "aviation_df['month'] = aviation_df['event_date'].dt.month\n",
    "aviation_df['day'] = aviation_df['event_date'].dt.day\n",
    "\n",
    "aviation_df.drop(columns=['event_date'], inplace=True)"
   ]
  },
  {
   "cell_type": "markdown",
   "metadata": {},
   "source": [
    "#### Cleaning Individual Columns"
   ]
  },
  {
   "cell_type": "markdown",
   "metadata": {},
   "source": [
    "##### injury_severity"
   ]
  },
  {
   "cell_type": "code",
   "execution_count": 34,
   "metadata": {},
   "outputs": [],
   "source": [
    "# Removing the count that follows the description of the injury in the 'injury_severity column'\n",
    "aviation_df['injury_severity'] = aviation_df['injury_severity'].apply(lambda x: x.split('(')[0])"
   ]
  },
  {
   "cell_type": "markdown",
   "metadata": {},
   "source": [
    "##### make"
   ]
  },
  {
   "cell_type": "code",
   "execution_count": 35,
   "metadata": {},
   "outputs": [],
   "source": [
    "# Create a dictionary to store the mapping of individual make names to origin names\n",
    "make_origin_mapping = {}\n",
    "\n",
    "# Iterate over each make in aviation_df to extract the origin name\n",
    "for make in aviation_df['make'].unique():\n",
    "    origin_make = make.split()[0]  # Get the origin make ('mcdonnell douglas helicopter' from 'mcdonnell')\n",
    "    make_origin_mapping[make] = origin_make\n",
    "    \n",
    "aviation_df['make'] = aviation_df['make'].map(make_origin_mapping)"
   ]
  },
  {
   "cell_type": "markdown",
   "metadata": {},
   "source": [
    "###### Commerical Jet Cleaning"
   ]
  },
  {
   "cell_type": "markdown",
   "metadata": {},
   "source": [
    "The two major players in commerical airline manufacturing are Boeing and Airbus. They have operated a duoply over the commerical airline industry since the 1990's. \n",
    "\n",
    "According to reports by CNBC, Airbus and Boeing together account for 99% of all large aircraft orders (and these orders together account for 90% of all aircraft sales). \n",
    "\n",
    "- CNBC article is no longer avaliable, written in 2019\n",
    "- https://simpleflying.com/battle-of-big-planes/"
   ]
  },
  {
   "cell_type": "code",
   "execution_count": 36,
   "metadata": {},
   "outputs": [],
   "source": [
    "# Filter the DataFrame for specific engine types and select relevant columns\n",
    "filtered_df = aviation_df[\n",
    "    aviation_df['engine_type'].isin(['turbo fan', 'turbo jet'])\n",
    "][['make', 'model', 'engine_type', 'purpose_of_flight']]\n",
    "\n",
    "# Filter the DataFrame to exclude erroneous plane addition\n",
    "final_airbus_df = filtered_df[(filtered_df['model'] != 'F4-6')]\n",
    "\n",
    "# Count occurrences and reset the index\n",
    "value_counts_df = final_airbus_df.value_counts().reset_index()\n",
    "\n",
    "# Filter for instances containing 'airbus'\n",
    "airbus_commerical_planes = value_counts_df[value_counts_df['make'].str.contains('airbus', case=False)]\n",
    "\n",
    "# Get unique models\n",
    "unique_airbus_commerical_planes = airbus_commerical_planes['model'].unique()"
   ]
  },
  {
   "cell_type": "code",
   "execution_count": 37,
   "metadata": {},
   "outputs": [],
   "source": [
    "airbus_replace_dict = {}\n",
    "\n",
    "for plane in unique_airbus_commerical_planes:\n",
    "    if not plane[0].isalpha(): \n",
    "        # If the first character is not a letter, prefix the plane name with 'A' and take the first three characters of the original name\n",
    "        airbus_replace_dict[plane] = 'A' + plane[:3]\n",
    "    elif plane[1] == '-': \n",
    "        # If the second character is a hyphen, remove the hyphen and take the first four characters of the modified name\n",
    "        airbus_replace_dict[plane] = plane.replace('-', '')[:4]\n",
    "    else:\n",
    "        # Take the first four characters of the plane name\n",
    "        airbus_replace_dict[plane] = plane[:4]"
   ]
  },
  {
   "cell_type": "code",
   "execution_count": 38,
   "metadata": {},
   "outputs": [],
   "source": [
    "# Filter the DataFrame for specific engine types and select relevant columns\n",
    "filtered_df = aviation_df[\n",
    "    aviation_df['engine_type'].isin(['turbo fan', 'turbo jet'])\n",
    "][['make', 'model', 'engine_type', 'purpose_of_flight']]\n",
    "\n",
    "# Filter the DataFrame to exclude erroneous plane addition\n",
    "final_airbus_df = filtered_df[(filtered_df['model'] != 'DC-10')]\n",
    "\n",
    "# Count occurrences and reset the index\n",
    "value_counts_df = filtered_df.value_counts().reset_index()\n",
    "\n",
    "# Filter for instances containing 'boeing'\n",
    "unique_boeing_commercial_planes = value_counts_df[value_counts_df['make'].str.contains('boeing', case=False)]\n",
    "\n",
    "# Get unique models\n",
    "unique_boeing_commercial_planes = unique_boeing_commercial_planes['model'].unique()"
   ]
  },
  {
   "cell_type": "code",
   "execution_count": 39,
   "metadata": {},
   "outputs": [],
   "source": [
    "boeing_replace_dict = {}\n",
    "for plane in unique_boeing_commercial_planes:\n",
    "    if plane[1] == '-':\n",
    "        # If the plane starts with 'B' and contains '-', like 'B737-300', take the part after 'B' and before the '-'\n",
    "        boeing_replace_dict[plane] = plane.replace('-', '')[1:4]\n",
    "    elif \"BOEING\" in plane:\n",
    "        # If the plane contains 'BOEING', like 'BOEING 777-236',remove 'BOEING', strip leading/trailing whitespace,\n",
    "        # and extract the first three digits from the remaining string\n",
    "        boeing_replace_dict[plane] = plane.replace('BOEING', '')[1:4]\n",
    "    elif \"MD\" in plane or \"DC\" in plane:\n",
    "        # If the plane contains 'MD' or 'DC', like 'MD-11' or 'DC-10', take the first five characters of the plane\n",
    "        boeing_replace_dict[plane] = plane[:5]\n",
    "    elif plane[0].isalpha():\n",
    "        # If the plane starts with an alpha character, take characters from index 1 to 4\n",
    "        boeing_replace_dict[plane] = plane[1:4]\n",
    "    else:\n",
    "        # Take the first three characters\n",
    "        boeing_replace_dict[plane] = plane[:3]"
   ]
  },
  {
   "cell_type": "code",
   "execution_count": 40,
   "metadata": {},
   "outputs": [],
   "source": [
    "# Apply the replacements for Airbus\n",
    "aviation_df['model'] =aviation_df['model'].replace(airbus_replace_dict)\n",
    "\n",
    "# Apply the replacements for Boeing\n",
    "aviation_df['model'] = aviation_df['model'].replace(boeing_replace_dict)"
   ]
  },
  {
   "cell_type": "code",
   "execution_count": 74,
   "metadata": {},
   "outputs": [],
   "source": [
    "# Relabel the 'purpose_of_flight' column for commercial flights\n",
    "\n",
    "# Create a list of the unique keys from the replacement dictionaries\n",
    "# The keys are the corrected models of the aircrafts that are commerical planes\n",
    "models_to_update = set(list(airbus_replace_dict.keys()) + list(boeing_replace_dict.keys()))\n",
    "\n",
    "# Update the 'purpose_of_flight' column to the string 'commercial flight' for rows where the 'model' column\n",
    "# matches any model from the combined set of Airbus and Boeing models.\n",
    "aviation_df.loc[aviation_df['model'].isin(models_to_update), 'purpose_of_flight'] = 'commercial flight'"
   ]
  },
  {
   "cell_type": "code",
   "execution_count": 76,
   "metadata": {},
   "outputs": [
    {
     "data": {
      "text/plain": [
       "personal                     48211\n",
       "instructional                10304\n",
       "unknown                       5856\n",
       "aerial application            4618\n",
       "business                      3733\n",
       "positioning                   1476\n",
       "other work use                1168\n",
       "ferry                          707\n",
       "aerial observation             700\n",
       "public aircraft                662\n",
       "commercial flight              660\n",
       "executive/corporate            462\n",
       "flight test                    377\n",
       "skydiving                      170\n",
       "external load                  112\n",
       "banner tow                     101\n",
       "public aircraft - federal       97\n",
       "air race show                   81\n",
       "public aircraft - local         73\n",
       "public aircraft - state         61\n",
       "air race/show                   57\n",
       "glider tow                      52\n",
       "firefighting                    29\n",
       "air drop                         8\n",
       "asho                             6\n",
       "pubs                             4\n",
       "publ                             1\n",
       "Name: purpose_of_flight, dtype: int64"
      ]
     },
     "execution_count": 76,
     "metadata": {},
     "output_type": "execute_result"
    }
   ],
   "source": [
    "aviation_df['purpose_of_flight'].value_counts()"
   ]
  },
  {
   "cell_type": "code",
   "execution_count": 41,
   "metadata": {},
   "outputs": [],
   "source": [
    "# Create 'make_model' column\n",
    "aviation_df['make_model'] = aviation_df['make'] + ' ' + aviation_df['model']"
   ]
  },
  {
   "cell_type": "code",
   "execution_count": 42,
   "metadata": {},
   "outputs": [
    {
     "name": "stdout",
     "output_type": "stream",
     "text": [
      "<class 'pandas.core.frame.DataFrame'>\n",
      "Int64Index: 79786 entries, 0 to 82152\n",
      "Data columns (total 23 columns):\n",
      " #   Column                  Non-Null Count  Dtype  \n",
      "---  ------                  --------------  -----  \n",
      " 0   investigation_type      79786 non-null  object \n",
      " 1   injury_severity         79786 non-null  object \n",
      " 2   aircraft_damage         79786 non-null  object \n",
      " 3   aircraft_category       79786 non-null  object \n",
      " 4   make                    79786 non-null  object \n",
      " 5   model                   79786 non-null  object \n",
      " 6   amateur_built           79786 non-null  object \n",
      " 7   number_of_engines       79786 non-null  object \n",
      " 8   engine_type             79786 non-null  object \n",
      " 9   purpose_of_flight       79786 non-null  object \n",
      " 10  total_fatal_injuries    79786 non-null  float64\n",
      " 11  total_serious_injuries  79786 non-null  float64\n",
      " 12  total_minor_injuries    79786 non-null  float64\n",
      " 13  total_uninjured         79786 non-null  float64\n",
      " 14  weather_condition       79786 non-null  object \n",
      " 15  broad_phase_of_flight   79786 non-null  object \n",
      " 16  report_status           79786 non-null  object \n",
      " 17  state                   79786 non-null  object \n",
      " 18  total_injuries          79786 non-null  float64\n",
      " 19  year                    79786 non-null  int64  \n",
      " 20  month                   79786 non-null  int64  \n",
      " 21  day                     79786 non-null  int64  \n",
      " 22  make_model              79786 non-null  object \n",
      "dtypes: float64(5), int64(3), object(15)\n",
      "memory usage: 14.6+ MB\n"
     ]
    }
   ],
   "source": [
    "# Cleaned Dataset\n",
    "aviation_df.info()"
   ]
  },
  {
   "cell_type": "markdown",
   "metadata": {},
   "source": [
    "# Outliers Detection"
   ]
  },
  {
   "cell_type": "markdown",
   "metadata": {},
   "source": [
    "## Numerical Columns"
   ]
  },
  {
   "cell_type": "code",
   "execution_count": 43,
   "metadata": {},
   "outputs": [],
   "source": [
    "def find_outliers_iqr(dataframe, column):\n",
    "    \"\"\"\n",
    "    Find the outliers in the column using the IQR method\n",
    "    -\n",
    "    Input: \n",
    "        dataframe: Pandas DataFrame\n",
    "        column: str\n",
    "    -\n",
    "    Output:\n",
    "        Prints:\n",
    "            - The number of outliers in the column.\n",
    "            - The percentage of outliers in the column.\n",
    "    \"\"\"\n",
    "    q1 = dataframe[column].quantile(0.25)\n",
    "    q3 = dataframe[column].quantile(0.75)\n",
    "    iqr = q3 - q1\n",
    "    lower_bound = q1 - (1.5 * iqr)\n",
    "    upper_bound = q3 + (1.5 * iqr)\n",
    "    \n",
    "    outliers = dataframe[(dataframe[column] < lower_bound) | (dataframe[column] > upper_bound)]\n",
    "    percent_outliers = len(outliers) * 100 / len(dataframe)\n",
    "    \n",
    "    print(f\"Number of outliers: {len(outliers)}\")\n",
    "    print(f\"Percentage of outliers: {percent_outliers:.2f}%\")"
   ]
  },
  {
   "cell_type": "code",
   "execution_count": 44,
   "metadata": {},
   "outputs": [],
   "source": [
    "numerical_columns = [\n",
    "    'total_fatal_injuries',\n",
    "    'total_serious_injuries',\n",
    "    'total_minor_injuries',\n",
    "    'total_uninjured',\n",
    "    'total_injuries'\n",
    "]"
   ]
  },
  {
   "cell_type": "code",
   "execution_count": 45,
   "metadata": {},
   "outputs": [
    {
     "data": {
      "image/png": "[encoded data removed]",
      "text/plain": [
       "<Figure size 720x2160 with 5 Axes>"
      ]
     },
     "metadata": {
      "needs_background": "light"
     },
     "output_type": "display_data"
    }
   ],
   "source": [
    "# Create subplots for box plots\n",
    "fig, axes = plt.subplots(nrows=len(numerical_columns), ncols=1, figsize=(10, 6 * len(numerical_columns)))\n",
    "\n",
    "# Plot each numerical column in a separate subplot\n",
    "for ax, column in zip(axes, numerical_columns):\n",
    "    sns.boxplot(data=aviation_df, x=column, ax=ax)\n",
    "    ax.set_title(f'Box Plot for {column}')\n",
    "    ax.set_xlabel(column)\n",
    "    ax.set_ylabel('Value')\n",
    "\n",
    "# Adjust layout to prevent overlap\n",
    "plt.tight_layout()\n",
    "\n",
    "# Show the plot\n",
    "plt.show()"
   ]
  },
  {
   "cell_type": "code",
   "execution_count": 46,
   "metadata": {},
   "outputs": [
    {
     "name": "stdout",
     "output_type": "stream",
     "text": [
      "\n",
      " total_fatal_injuries\n",
      "Number of outliers: 14965\n",
      "Percentage of outliers: 18.76%\n",
      "\n",
      " total_serious_injuries\n",
      "Number of outliers: 12283\n",
      "Percentage of outliers: 15.39%\n",
      "\n",
      " total_minor_injuries\n",
      "Number of outliers: 14447\n",
      "Percentage of outliers: 18.11%\n",
      "\n",
      " total_uninjured\n",
      "Number of outliers: 1943\n",
      "Percentage of outliers: 2.44%\n",
      "\n",
      " total_injuries\n",
      "Number of outliers: 5959\n",
      "Percentage of outliers: 7.47%\n"
     ]
    }
   ],
   "source": [
    "# Printing out the number/percentage of outliers\n",
    "\n",
    "for column in numerical_columns:\n",
    "    print('\\n', column)\n",
    "    find_outliers_iqr(aviation_df, column)"
   ]
  },
  {
   "cell_type": "markdown",
   "metadata": {},
   "source": [
    "### Explaination of Data"
   ]
  },
  {
   "cell_type": "markdown",
   "metadata": {},
   "source": [
    "The box and whisker plots above show a line rather than a rectangle for the IQR because the range of the IQR is between 0 and 1. On the graph, when comparing the IQR to the outliers that exist, the range of the outliers far outsizes the range of the IQR.\n",
    "\n",
    "**Handling Outliers**\n",
    "\n",
    "Even though the outliers skew the columns, we will keep all of the outliers that are in all of the numerical columns because the outliers are relevant data points that provide useful information for each column. "
   ]
  },
  {
   "cell_type": "markdown",
   "metadata": {},
   "source": [
    "# Correlation Analysis"
   ]
  },
  {
   "cell_type": "markdown",
   "metadata": {},
   "source": [
    "## Numerical Columns Correlation"
   ]
  },
  {
   "cell_type": "code",
   "execution_count": 47,
   "metadata": {},
   "outputs": [
    {
     "data": {
      "text/html": [
       "<div>\n",
       "<style scoped>\n",
       "    .dataframe tbody tr th:only-of-type {\n",
       "        vertical-align: middle;\n",
       "    }\n",
       "\n",
       "    .dataframe tbody tr th {\n",
       "        vertical-align: top;\n",
       "    }\n",
       "\n",
       "    .dataframe thead th {\n",
       "        text-align: right;\n",
       "    }\n",
       "</style>\n",
       "<table border=\"1\" class=\"dataframe\">\n",
       "  <thead>\n",
       "    <tr style=\"text-align: right;\">\n",
       "      <th></th>\n",
       "      <th>total_fatal_injuries</th>\n",
       "      <th>total_serious_injuries</th>\n",
       "      <th>total_minor_injuries</th>\n",
       "      <th>total_uninjured</th>\n",
       "      <th>total_injuries</th>\n",
       "      <th>year</th>\n",
       "      <th>month</th>\n",
       "      <th>day</th>\n",
       "    </tr>\n",
       "  </thead>\n",
       "  <tbody>\n",
       "    <tr>\n",
       "      <th>total_fatal_injuries</th>\n",
       "      <td>1.000000</td>\n",
       "      <td>0.122479</td>\n",
       "      <td>0.079502</td>\n",
       "      <td>-0.018950</td>\n",
       "      <td>0.814132</td>\n",
       "      <td>-0.020590</td>\n",
       "      <td>0.008230</td>\n",
       "      <td>-0.001619</td>\n",
       "    </tr>\n",
       "    <tr>\n",
       "      <th>total_serious_injuries</th>\n",
       "      <td>0.122479</td>\n",
       "      <td>1.000000</td>\n",
       "      <td>0.325473</td>\n",
       "      <td>0.065369</td>\n",
       "      <td>0.548122</td>\n",
       "      <td>0.024718</td>\n",
       "      <td>0.004587</td>\n",
       "      <td>-0.003101</td>\n",
       "    </tr>\n",
       "    <tr>\n",
       "      <th>total_minor_injuries</th>\n",
       "      <td>0.079502</td>\n",
       "      <td>0.325473</td>\n",
       "      <td>1.000000</td>\n",
       "      <td>0.167888</td>\n",
       "      <td>0.553061</td>\n",
       "      <td>-0.040301</td>\n",
       "      <td>0.002982</td>\n",
       "      <td>-0.000258</td>\n",
       "    </tr>\n",
       "    <tr>\n",
       "      <th>total_uninjured</th>\n",
       "      <td>-0.018950</td>\n",
       "      <td>0.065369</td>\n",
       "      <td>0.167888</td>\n",
       "      <td>1.000000</td>\n",
       "      <td>0.072416</td>\n",
       "      <td>0.032930</td>\n",
       "      <td>-0.001834</td>\n",
       "      <td>-0.001832</td>\n",
       "    </tr>\n",
       "    <tr>\n",
       "      <th>total_injuries</th>\n",
       "      <td>0.814132</td>\n",
       "      <td>0.548122</td>\n",
       "      <td>0.553061</td>\n",
       "      <td>0.072416</td>\n",
       "      <td>1.000000</td>\n",
       "      <td>-0.022663</td>\n",
       "      <td>0.008786</td>\n",
       "      <td>-0.002330</td>\n",
       "    </tr>\n",
       "    <tr>\n",
       "      <th>year</th>\n",
       "      <td>-0.020590</td>\n",
       "      <td>0.024718</td>\n",
       "      <td>-0.040301</td>\n",
       "      <td>0.032930</td>\n",
       "      <td>-0.022663</td>\n",
       "      <td>1.000000</td>\n",
       "      <td>0.009742</td>\n",
       "      <td>0.002016</td>\n",
       "    </tr>\n",
       "    <tr>\n",
       "      <th>month</th>\n",
       "      <td>0.008230</td>\n",
       "      <td>0.004587</td>\n",
       "      <td>0.002982</td>\n",
       "      <td>-0.001834</td>\n",
       "      <td>0.008786</td>\n",
       "      <td>0.009742</td>\n",
       "      <td>1.000000</td>\n",
       "      <td>-0.026778</td>\n",
       "    </tr>\n",
       "    <tr>\n",
       "      <th>day</th>\n",
       "      <td>-0.001619</td>\n",
       "      <td>-0.003101</td>\n",
       "      <td>-0.000258</td>\n",
       "      <td>-0.001832</td>\n",
       "      <td>-0.002330</td>\n",
       "      <td>0.002016</td>\n",
       "      <td>-0.026778</td>\n",
       "      <td>1.000000</td>\n",
       "    </tr>\n",
       "  </tbody>\n",
       "</table>\n",
       "</div>"
      ],
      "text/plain": [
       "                        total_fatal_injuries  total_serious_injuries  \\\n",
       "total_fatal_injuries                1.000000                0.122479   \n",
       "total_serious_injuries              0.122479                1.000000   \n",
       "total_minor_injuries                0.079502                0.325473   \n",
       "total_uninjured                    -0.018950                0.065369   \n",
       "total_injuries                      0.814132                0.548122   \n",
       "year                               -0.020590                0.024718   \n",
       "month                               0.008230                0.004587   \n",
       "day                                -0.001619               -0.003101   \n",
       "\n",
       "                        total_minor_injuries  total_uninjured  total_injuries  \\\n",
       "total_fatal_injuries                0.079502        -0.018950        0.814132   \n",
       "total_serious_injuries              0.325473         0.065369        0.548122   \n",
       "total_minor_injuries                1.000000         0.167888        0.553061   \n",
       "total_uninjured                     0.167888         1.000000        0.072416   \n",
       "total_injuries                      0.553061         0.072416        1.000000   \n",
       "year                               -0.040301         0.032930       -0.022663   \n",
       "month                               0.002982        -0.001834        0.008786   \n",
       "day                                -0.000258        -0.001832       -0.002330   \n",
       "\n",
       "                            year     month       day  \n",
       "total_fatal_injuries   -0.020590  0.008230 -0.001619  \n",
       "total_serious_injuries  0.024718  0.004587 -0.003101  \n",
       "total_minor_injuries   -0.040301  0.002982 -0.000258  \n",
       "total_uninjured         0.032930 -0.001834 -0.001832  \n",
       "total_injuries         -0.022663  0.008786 -0.002330  \n",
       "year                    1.000000  0.009742  0.002016  \n",
       "month                   0.009742  1.000000 -0.026778  \n",
       "day                     0.002016 -0.026778  1.000000  "
      ]
     },
     "execution_count": 47,
     "metadata": {},
     "output_type": "execute_result"
    }
   ],
   "source": [
    "aviation_df.corr()"
   ]
  },
  {
   "cell_type": "code",
   "execution_count": 48,
   "metadata": {},
   "outputs": [
    {
     "data": {
      "image/png": "[encoded data removed]",
      "text/plain": [
       "<Figure size 864x576 with 2 Axes>"
      ]
     },
     "metadata": {
      "needs_background": "light"
     },
     "output_type": "display_data"
    }
   ],
   "source": [
    "# use correlation matrices and scatter plots to understand relationships between numerical variables\n",
    "correlation_matrix = aviation_df.corr()\n",
    "\n",
    "plt.figure(figsize=(12, 8))\n",
    "plt.matshow(correlation_matrix, cmap='coolwarm', fignum=1)\n",
    "plt.colorbar(label='correlation coefficient')\n",
    "plt.xticks(range(len(correlation_matrix.columns)), correlation_matrix.columns, rotation='vertical')\n",
    "plt.yticks(range(len(correlation_matrix.columns)), correlation_matrix.columns)\n",
    "plt.title('Correlation Matrix')\n",
    "\n",
    "plt.show()"
   ]
  },
  {
   "cell_type": "code",
   "execution_count": 49,
   "metadata": {},
   "outputs": [],
   "source": [
    "def scatter_plot(dataframe, columns):\n",
    "    \"\"\"\n",
    "    Create scatter plots for numerical columns.\n",
    "    -\n",
    "    Input:\n",
    "        dataframe: Pandas DataFrame\n",
    "        columns: list of column names (strings)\n",
    "    -\n",
    "    Output:\n",
    "        Displays scatter plots for each column pair\n",
    "    \"\"\"\n",
    "    for i in range(len(columns)):\n",
    "        for j in range(i+1, len(columns)):\n",
    "            plt.figure(figsize=(12, 8))\n",
    "            plt.scatter(dataframe[columns[i]], dataframe[columns[j]], alpha=0.5)\n",
    "            plt.xlabel(columns[i])\n",
    "            plt.ylabel(columns[j])\n",
    "            plt.title(f'{columns[i]} vs {columns[j]}')\n",
    "            plt.grid(True)\n",
    "            plt.show()"
   ]
  },
  {
   "cell_type": "code",
   "execution_count": 50,
   "metadata": {},
   "outputs": [
    {
     "data": {
      "image/png": "[encoded data removed]",
      "text/plain": [
       "<Figure size 864x576 with 1 Axes>"
      ]
     },
     "metadata": {
      "needs_background": "light"
     },
     "output_type": "display_data"
    },
    {
     "data": {
      "image/png": "[encoded data removed]",
      "text/plain": [
       "<Figure size 864x576 with 1 Axes>"
      ]
     },
     "metadata": {
      "needs_background": "light"
     },
     "output_type": "display_data"
    },
    {
     "data": {
      "image/png": "[encoded data removed]",
      "text/plain": [
       "<Figure size 864x576 with 1 Axes>"
      ]
     },
     "metadata": {
      "needs_background": "light"
     },
     "output_type": "display_data"
    },
    {
     "data": {
      "image/png": "[encoded data removed]",
      "text/plain": [
       "<Figure size 864x576 with 1 Axes>"
      ]
     },
     "metadata": {
      "needs_background": "light"
     },
     "output_type": "display_data"
    },
    {
     "data": {
      "image/png": "[encoded data removed]",
      "text/plain": [
       "<Figure size 864x576 with 1 Axes>"
      ]
     },
     "metadata": {
      "needs_background": "light"
     },
     "output_type": "display_data"
    },
    {
     "data": {
      "image/png": "[encoded data removed]",
      "text/plain": [
       "<Figure size 864x576 with 1 Axes>"
      ]
     },
     "metadata": {
      "needs_background": "light"
     },
     "output_type": "display_data"
    }
   ],
   "source": [
    "# List of numerical columns to compare\n",
    "numerical_columns = ['total_fatal_injuries', 'total_serious_injuries', 'total_minor_injuries', 'total_uninjured']\n",
    "\n",
    "# Call the function with the dataframe and the list of columns\n",
    "scatter_plot(aviation_df, numerical_columns)"
   ]
  },
  {
   "cell_type": "markdown",
   "metadata": {},
   "source": [
    "## Categorical Columns Correlation"
   ]
  },
  {
   "cell_type": "code",
   "execution_count": 51,
   "metadata": {},
   "outputs": [],
   "source": [
    "# Function to perform chi-squared test\n",
    "def chi_squared_test(dataframe, column1, column2):\n",
    "    \"\"\"\n",
    "    Perform a chi-squared test for independence between two categorical variables.\n",
    "    -\n",
    "    Input:\n",
    "        dataframe: Pandas DataFrame\n",
    "        column1: str\n",
    "        column2: str\n",
    "    -\n",
    "    Output:\n",
    "        Prints the chi-squared test statistic, p-value, and degrees of freedom.\n",
    "    \"\"\"\n",
    "    contingency_table = pd.crosstab(dataframe[column1], dataframe[column2])\n",
    "    chi2, p, dof, expected = chi2_contingency(contingency_table)\n",
    "    \n",
    "    print(f\"Chi-squared Test for {column1} and {column2}\")\n",
    "    print(f\"Chi-squared Test Statistic: {chi2}\")\n",
    "    print(f\"P-value: {p}\")\n",
    "    print(f\"Degrees of Freedom: {dof}\")\n",
    "    print(\"\\n\")"
   ]
  },
  {
   "cell_type": "markdown",
   "metadata": {},
   "source": [
    "### Reasoning for choosing these columns"
   ]
  },
  {
   "cell_type": "markdown",
   "metadata": {},
   "source": [
    "We chose these columns for the chi-square tests as it follows suit with our stakeholder's business plan of obtaining the best planes for a safe and reliable commercial airline company.\n",
    "\n",
    "- injury_severity\n",
    "- aircraft_damage\n",
    "- total_uninjured\n",
    "- total_minor_injuries\n",
    "- make"
   ]
  },
  {
   "cell_type": "markdown",
   "metadata": {},
   "source": [
    "### Chi-squared test for 'injury_severity'"
   ]
  },
  {
   "cell_type": "code",
   "execution_count": 52,
   "metadata": {},
   "outputs": [
    {
     "name": "stdout",
     "output_type": "stream",
     "text": [
      "Chi-squared Test for injury_severity and aircraft_damage\n",
      "Chi-squared Test Statistic: 30598.99820485511\n",
      "P-value: 0.0\n",
      "Degrees of Freedom: 12\n",
      "\n",
      "\n",
      "Chi-squared Test for injury_severity and aircraft_category\n",
      "Chi-squared Test Statistic: 1735.2707565776543\n",
      "P-value: 0.0\n",
      "Degrees of Freedom: 52\n",
      "\n",
      "\n",
      "Chi-squared Test for injury_severity and amateur_built\n",
      "Chi-squared Test Statistic: 442.7622193092711\n",
      "P-value: 1.3139369679662893e-90\n",
      "Degrees of Freedom: 8\n",
      "\n",
      "\n",
      "Chi-squared Test for injury_severity and number_of_engines\n",
      "Chi-squared Test Statistic: 1097.8542120841294\n",
      "P-value: 2.715105643091025e-213\n",
      "Degrees of Freedom: 28\n",
      "\n",
      "\n",
      "Chi-squared Test for injury_severity and engine_type\n",
      "Chi-squared Test Statistic: 4433.433289725092\n",
      "P-value: 0.0\n",
      "Degrees of Freedom: 32\n",
      "\n",
      "\n",
      "Chi-squared Test for injury_severity and purpose_of_flight\n",
      "Chi-squared Test Statistic: 2381.9996484706876\n",
      "P-value: 0.0\n",
      "Degrees of Freedom: 100\n",
      "\n",
      "\n",
      "Chi-squared Test for injury_severity and weather_condition\n",
      "Chi-squared Test Statistic: 7831.344375030355\n",
      "P-value: 0.0\n",
      "Degrees of Freedom: 8\n",
      "\n",
      "\n",
      "Chi-squared Test for injury_severity and broad_phase_of_flight\n",
      "Chi-squared Test Statistic: 7651.073651080701\n",
      "P-value: 0.0\n",
      "Degrees of Freedom: 40\n",
      "\n",
      "\n"
     ]
    }
   ],
   "source": [
    "safety_outcome = 'injury_severity'\n",
    "\n",
    "categorical_columns = [\n",
    "    'aircraft_damage',\n",
    "    'aircraft_category',\n",
    "    'amateur_built',\n",
    "    'number_of_engines',\n",
    "    'engine_type',\n",
    "    'purpose_of_flight',\n",
    "    'weather_condition',\n",
    "    'broad_phase_of_flight'\n",
    "]\n",
    "\n",
    "for column in categorical_columns:\n",
    "    chi_squared_test(aviation_df, safety_outcome, column)"
   ]
  },
  {
   "cell_type": "markdown",
   "metadata": {},
   "source": [
    "#### Results"
   ]
  },
  {
   "cell_type": "markdown",
   "metadata": {},
   "source": [
    "The strongest associations with 'injury_severity' are:\n",
    "\n",
    "1. injury_severity and aircraft_damage\n",
    "2. injury_severity and weather_condition\n",
    "3. injury_severity and broad_phase_of_flight\n",
    "4. injury_severity and engine_type"
   ]
  },
  {
   "cell_type": "markdown",
   "metadata": {},
   "source": [
    "### Chi-Squared test for 'aircraft_damage'"
   ]
  },
  {
   "cell_type": "code",
   "execution_count": 53,
   "metadata": {},
   "outputs": [
    {
     "name": "stdout",
     "output_type": "stream",
     "text": [
      "Chi-squared Test for aircraft_damage and aircraft_category\n",
      "Chi-squared Test Statistic: 5971.506649709156\n",
      "P-value: 0.0\n",
      "Degrees of Freedom: 39\n",
      "\n",
      "\n",
      "Chi-squared Test for aircraft_damage and amateur_built\n",
      "Chi-squared Test Statistic: 234.37379049804514\n",
      "P-value: 8.923141601895863e-48\n",
      "Degrees of Freedom: 6\n",
      "\n",
      "\n",
      "Chi-squared Test for aircraft_damage and number_of_engines\n",
      "Chi-squared Test Statistic: 6620.76473373558\n",
      "P-value: 0.0\n",
      "Degrees of Freedom: 21\n",
      "\n",
      "\n",
      "Chi-squared Test for aircraft_damage and engine_type\n",
      "Chi-squared Test Statistic: 10774.35480069451\n",
      "P-value: 0.0\n",
      "Degrees of Freedom: 24\n",
      "\n",
      "\n",
      "Chi-squared Test for aircraft_damage and purpose_of_flight\n",
      "Chi-squared Test Statistic: 4751.333057276936\n",
      "P-value: 0.0\n",
      "Degrees of Freedom: 75\n",
      "\n",
      "\n",
      "Chi-squared Test for aircraft_damage and weather_condition\n",
      "Chi-squared Test Statistic: 5985.224761603631\n",
      "P-value: 0.0\n",
      "Degrees of Freedom: 6\n",
      "\n",
      "\n",
      "Chi-squared Test for aircraft_damage and broad_phase_of_flight\n",
      "Chi-squared Test Statistic: 13176.268912995625\n",
      "P-value: 0.0\n",
      "Degrees of Freedom: 30\n",
      "\n",
      "\n"
     ]
    }
   ],
   "source": [
    "safety_outcome = 'aircraft_damage'\n",
    "categorical_columns = [\n",
    "    'aircraft_category',\n",
    "    'amateur_built',\n",
    "    'number_of_engines',\n",
    "    'engine_type',\n",
    "    'purpose_of_flight',\n",
    "    'weather_condition',\n",
    "    'broad_phase_of_flight'\n",
    "]\n",
    "\n",
    "for column in categorical_columns:\n",
    "    chi_squared_test(aviation_df, safety_outcome, column)"
   ]
  },
  {
   "cell_type": "markdown",
   "metadata": {},
   "source": [
    "#### Results"
   ]
  },
  {
   "cell_type": "markdown",
   "metadata": {},
   "source": [
    "The strongest associations with 'aircraft_damage' are:\n",
    "\n",
    "1. aircraft_damage and broad_phase_of_flight\n",
    "2. aircraft_damage and engine_type\n",
    "3. aircraft_damage and number_of_engines\n"
   ]
  },
  {
   "cell_type": "markdown",
   "metadata": {},
   "source": [
    "### Chi-squared test for 'total_uninjured'"
   ]
  },
  {
   "cell_type": "code",
   "execution_count": 54,
   "metadata": {},
   "outputs": [
    {
     "name": "stdout",
     "output_type": "stream",
     "text": [
      "Chi-squared Test for total_uninjured and aircraft_damage\n",
      "Chi-squared Test Statistic: 39568.906361942485\n",
      "P-value: 0.0\n",
      "Degrees of Freedom: 852\n",
      "\n",
      "\n",
      "Chi-squared Test for total_uninjured and aircraft_category\n",
      "Chi-squared Test Statistic: 2770.316056923227\n",
      "P-value: 1.0\n",
      "Degrees of Freedom: 3692\n",
      "\n",
      "\n",
      "Chi-squared Test for total_uninjured and amateur_built\n",
      "Chi-squared Test Statistic: 1820.022525637904\n",
      "P-value: 6.074236677490406e-131\n",
      "Degrees of Freedom: 568\n",
      "\n",
      "\n",
      "Chi-squared Test for total_uninjured and number_of_engines\n",
      "Chi-squared Test Statistic: 46661.391312228116\n",
      "P-value: 0.0\n",
      "Degrees of Freedom: 1988\n",
      "\n",
      "\n",
      "Chi-squared Test for total_uninjured and engine_type\n",
      "Chi-squared Test Statistic: 48984.20844573034\n",
      "P-value: 0.0\n",
      "Degrees of Freedom: 2272\n",
      "\n",
      "\n",
      "Chi-squared Test for total_uninjured and purpose_of_flight\n",
      "Chi-squared Test Statistic: 22300.53334481624\n",
      "P-value: 0.0\n",
      "Degrees of Freedom: 7100\n",
      "\n",
      "\n",
      "Chi-squared Test for total_uninjured and weather_condition\n",
      "Chi-squared Test Statistic: 5206.1107327447\n",
      "P-value: 0.0\n",
      "Degrees of Freedom: 568\n",
      "\n",
      "\n",
      "Chi-squared Test for total_uninjured and broad_phase_of_flight\n",
      "Chi-squared Test Statistic: 15700.87212193681\n",
      "P-value: 0.0\n",
      "Degrees of Freedom: 2840\n",
      "\n",
      "\n"
     ]
    }
   ],
   "source": [
    "safety_outcome = 'total_uninjured'\n",
    "categorical_columns = [\n",
    "    'aircraft_damage',\n",
    "    'aircraft_category',\n",
    "    'amateur_built',\n",
    "    'number_of_engines',\n",
    "    'engine_type',\n",
    "    'purpose_of_flight',\n",
    "    'weather_condition',\n",
    "    'broad_phase_of_flight'\n",
    "]\n",
    "\n",
    "for column in categorical_columns:\n",
    "    chi_squared_test(aviation_df, safety_outcome, column)"
   ]
  },
  {
   "cell_type": "markdown",
   "metadata": {},
   "source": [
    "#### Results"
   ]
  },
  {
   "cell_type": "markdown",
   "metadata": {},
   "source": [
    "The best associations with 'total_uninjured' are:\n",
    "\n",
    "1. total_uninjured and engine_type\n",
    "2. total_uninjured and number_of_engines\n",
    "3. total_uninjured and aircraft_damage\n",
    "4. total_uninjured and purpose_of_flight\n"
   ]
  },
  {
   "cell_type": "markdown",
   "metadata": {},
   "source": [
    "### Chi-squared test for 'total_minor_injuries'"
   ]
  },
  {
   "cell_type": "code",
   "execution_count": 55,
   "metadata": {},
   "outputs": [
    {
     "name": "stdout",
     "output_type": "stream",
     "text": [
      "Chi-squared Test for total_minor_injuries and aircraft_damage\n",
      "Chi-squared Test Statistic: 2571.384906875028\n",
      "P-value: 0.0\n",
      "Degrees of Freedom: 132\n",
      "\n",
      "\n",
      "Chi-squared Test for total_minor_injuries and aircraft_category\n",
      "Chi-squared Test Statistic: 1003.9237973406678\n",
      "P-value: 3.716242828793512e-26\n",
      "Degrees of Freedom: 572\n",
      "\n",
      "\n",
      "Chi-squared Test for total_minor_injuries and amateur_built\n",
      "Chi-squared Test Statistic: 284.6552403679581\n",
      "P-value: 1.4209228975511283e-22\n",
      "Degrees of Freedom: 88\n",
      "\n",
      "\n",
      "Chi-squared Test for total_minor_injuries and number_of_engines\n",
      "Chi-squared Test Statistic: 9147.2946831549\n",
      "P-value: 0.0\n",
      "Degrees of Freedom: 308\n",
      "\n",
      "\n",
      "Chi-squared Test for total_minor_injuries and engine_type\n",
      "Chi-squared Test Statistic: 5043.606369380696\n",
      "P-value: 0.0\n",
      "Degrees of Freedom: 352\n",
      "\n",
      "\n",
      "Chi-squared Test for total_minor_injuries and purpose_of_flight\n",
      "Chi-squared Test Statistic: 2728.1571194627477\n",
      "P-value: 2.963629260178427e-139\n",
      "Degrees of Freedom: 1100\n",
      "\n",
      "\n",
      "Chi-squared Test for total_minor_injuries and weather_condition\n",
      "Chi-squared Test Statistic: 409.7773277765141\n",
      "P-value: 5.416372915962161e-43\n",
      "Degrees of Freedom: 88\n",
      "\n",
      "\n",
      "Chi-squared Test for total_minor_injuries and broad_phase_of_flight\n",
      "Chi-squared Test Statistic: 2688.3464227258014\n",
      "P-value: 0.0\n",
      "Degrees of Freedom: 440\n",
      "\n",
      "\n"
     ]
    }
   ],
   "source": [
    "safety_outcome = 'total_minor_injuries'\n",
    "categorical_columns = [\n",
    "    'aircraft_damage',\n",
    "    'aircraft_category',\n",
    "    'amateur_built',\n",
    "    'number_of_engines',\n",
    "    'engine_type',\n",
    "    'purpose_of_flight',\n",
    "    'weather_condition',\n",
    "    'broad_phase_of_flight'\n",
    "]\n",
    "\n",
    "for column in categorical_columns:\n",
    "    chi_squared_test(aviation_df, safety_outcome, column)"
   ]
  },
  {
   "cell_type": "markdown",
   "metadata": {},
   "source": [
    "#### Results"
   ]
  },
  {
   "cell_type": "markdown",
   "metadata": {},
   "source": [
    "The best association with 'total_minor_injuries' are:\n",
    "\n",
    "1. total_minor_injuries and number_of_engines\n",
    "2. total_minor_injuries and engine_type\n",
    "3. total_minor_injuries and purpose_of_flight\n",
    "4. total_minor_injuries and broad_phase_of_flight\n",
    "5. total_minor_injuries and aircraft_damage"
   ]
  },
  {
   "cell_type": "markdown",
   "metadata": {},
   "source": [
    "### Chi-squared test for 'make'"
   ]
  },
  {
   "cell_type": "code",
   "execution_count": 56,
   "metadata": {},
   "outputs": [
    {
     "name": "stdout",
     "output_type": "stream",
     "text": [
      "Chi-squared Test for make and aircraft_damage\n",
      "Chi-squared Test Statistic: 31732.82421173465\n",
      "P-value: 0.0\n",
      "Degrees of Freedom: 15483\n",
      "\n",
      "\n",
      "Chi-squared Test for make and aircraft_category\n",
      "Chi-squared Test Statistic: 431149.0075086617\n",
      "P-value: 0.0\n",
      "Degrees of Freedom: 67093\n",
      "\n",
      "\n",
      "Chi-squared Test for make and amateur_built\n",
      "Chi-squared Test Statistic: 85309.45395808581\n",
      "P-value: 0.0\n",
      "Degrees of Freedom: 10322\n",
      "\n",
      "\n",
      "Chi-squared Test for make and number_of_engines\n",
      "Chi-squared Test Statistic: 208213.76575648948\n",
      "P-value: 0.0\n",
      "Degrees of Freedom: 36127\n",
      "\n",
      "\n",
      "Chi-squared Test for make and engine_type\n",
      "Chi-squared Test Statistic: 253708.73350651833\n",
      "P-value: 0.0\n",
      "Degrees of Freedom: 41288\n",
      "\n",
      "\n",
      "Chi-squared Test for make and purpose_of_flight\n",
      "Chi-squared Test Statistic: 189768.70685798806\n",
      "P-value: 0.0\n",
      "Degrees of Freedom: 129025\n",
      "\n",
      "\n",
      "Chi-squared Test for make and weather_condition\n",
      "Chi-squared Test Statistic: 8196.771279519435\n",
      "P-value: 1.0\n",
      "Degrees of Freedom: 10322\n",
      "\n",
      "\n",
      "Chi-squared Test for make and broad_phase_of_flight\n",
      "Chi-squared Test Statistic: 56459.31570407648\n",
      "P-value: 6.993727129031359e-49\n",
      "Degrees of Freedom: 51610\n",
      "\n",
      "\n"
     ]
    }
   ],
   "source": [
    "safety_outcome = 'make'\n",
    "categorical_columns = [\n",
    "    'aircraft_damage',\n",
    "    'aircraft_category',\n",
    "    'amateur_built',\n",
    "    'number_of_engines',\n",
    "    'engine_type',\n",
    "    'purpose_of_flight',\n",
    "    'weather_condition',\n",
    "    'broad_phase_of_flight'\n",
    "]\n",
    "\n",
    "for column in categorical_columns:\n",
    "    chi_squared_test(aviation_df, safety_outcome, column)"
   ]
  },
  {
   "cell_type": "markdown",
   "metadata": {},
   "source": [
    "#### Results"
   ]
  },
  {
   "cell_type": "markdown",
   "metadata": {},
   "source": [
    "The best association with 'make':\n",
    "\n",
    "1. make and aircraft_category\n",
    "2. make and engine_type\n",
    "3. make and number_of_engines\n",
    "4. make and purpose_of_flight\n",
    "5. make and amateur_built"
   ]
  },
  {
   "cell_type": "markdown",
   "metadata": {},
   "source": [
    "# Data Visualization"
   ]
  },
  {
   "cell_type": "code",
   "execution_count": 57,
   "metadata": {},
   "outputs": [],
   "source": [
    "def create_comparison_bar_chart(dataframe, categorical_col, numerical_col, measure, sort_boolean, num_of_values_shown):\n",
    "    # Calculate numerical measure for each categorical column\n",
    "    num_by_cat = dataframe.groupby(categorical_col)[numerical_col].agg(measure)\n",
    "    \n",
    "    #Sort the data\n",
    "    num_by_cat = num_by_cat.sort_values(ascending=sort_boolean).head(num_of_values_shown)\n",
    "    \n",
    "    # Plot the bar chart\n",
    "    plt.figure(figsize=(12, 6))\n",
    "    num_by_cat.plot(kind='bar', color='skyblue')\n",
    "    plt.title(f'{numerical_col} by {categorical_col}')\n",
    "    plt.xlabel(f'{categorical_col}')\n",
    "    plt.ylabel(f'{numerical_col}')\n",
    "    plt.xticks(rotation=90)\n",
    "    plt.tight_layout()\n",
    "    plt.show()"
   ]
  },
  {
   "cell_type": "markdown",
   "metadata": {},
   "source": [
    "## What is the most dangerous type of flight?"
   ]
  },
  {
   "cell_type": "code",
   "execution_count": 58,
   "metadata": {},
   "outputs": [
    {
     "data": {
      "image/png": "[encoded data removed]",
      "text/plain": [
       "<Figure size 864x432 with 1 Axes>"
      ]
     },
     "metadata": {
      "needs_background": "light"
     },
     "output_type": "display_data"
    }
   ],
   "source": [
    "create_comparison_bar_chart(aviation_df, 'purpose_of_flight', 'total_injuries', 'sum', False, 20)"
   ]
  },
  {
   "cell_type": "markdown",
   "metadata": {},
   "source": [
    "**Review**\n",
    "\n",
    "Overwhelmingly, the largest cause of injury when onboard an aircraft is while flying for personal reasons. This could be due to a multitude of reasons, cheif among them is flight hours.\n",
    "\n",
    "Given the data, the hourly requirement should be increased to limit the injuries caused by personal flights. \n",
    "\n",
    "\"A person applying for a private pilot certificate in airplanes, helicopters, and gyro-planes must log at least 40 hours of flight time, of which at least 20 hours are flight training from an authorized instructor and 10 hours of solo flight training in the appropriate areas of operation; three hours of cross country; three hours at night, three hours of instrument time; and other requirements specific to the category and class rating sought.\n",
    "\n",
    "Private pilots in gliders and lighter-than-air aircraft must have logged from an authorized instructor a similar number of hours and/ or training flights, which include both cross country and solo according to category and class rating sought. Though the regulations require a minimum of 40 hours flight time, in the U. S. the average number of hours for persons without a hearing impairment completing the private pilot certification requirements is approximately 75 hours.\"\n",
    "\n",
    "- https://www.faa.gov/faq/what-are-hourly-requirements-becoming-pilot"
   ]
  },
  {
   "cell_type": "markdown",
   "metadata": {},
   "source": [
    "## Which make and model is most dangerous?"
   ]
  },
  {
   "cell_type": "code",
   "execution_count": 59,
   "metadata": {},
   "outputs": [
    {
     "data": {
      "image/png": "[encoded data removed]",
      "text/plain": [
       "<Figure size 864x432 with 1 Axes>"
      ]
     },
     "metadata": {
      "needs_background": "light"
     },
     "output_type": "display_data"
    }
   ],
   "source": [
    "# Filter 'amateur_built' planes so we only see non-amateur or unknown planes\n",
    "non_amateur_df = aviation_df[(aviation_df['amateur_built'] == 'no') | (aviation_df['amateur_built'] == 'unknown')]\n",
    "\n",
    "create_comparison_bar_chart(non_amateur_df, 'make', 'total_injuries', 'sum', False, 50)"
   ]
  },
  {
   "cell_type": "markdown",
   "metadata": {},
   "source": [
    "**Review**\n",
    "\n"
   ]
  },
  {
   "cell_type": "code",
   "execution_count": 60,
   "metadata": {},
   "outputs": [
    {
     "data": {
      "image/png": "[encoded data removed]",
      "text/plain": [
       "<Figure size 864x432 with 1 Axes>"
      ]
     },
     "metadata": {
      "needs_background": "light"
     },
     "output_type": "display_data"
    }
   ],
   "source": [
    "# Create a new column 'make_model' by combining 'make' and 'model' columns\n",
    "non_amateur_df['make_model'] = non_amateur_df['make'] + ' ' + aviation_df['model']\n",
    "\n",
    "create_comparison_bar_chart(non_amateur_df, 'make_model', 'total_injuries', 'sum', False, 50)"
   ]
  },
  {
   "cell_type": "markdown",
   "metadata": {},
   "source": [
    "## Which state has the most accidents?"
   ]
  },
  {
   "cell_type": "code",
   "execution_count": 61,
   "metadata": {},
   "outputs": [
    {
     "data": {
      "image/png": "[encoded data removed]",
      "text/plain": [
       "<Figure size 864x432 with 1 Axes>"
      ]
     },
     "metadata": {
      "needs_background": "light"
     },
     "output_type": "display_data"
    }
   ],
   "source": [
    "create_comparison_bar_chart(aviation_df, 'state', 'total_injuries', 'sum', False, 100)"
   ]
  },
  {
   "cell_type": "markdown",
   "metadata": {},
   "source": [
    "## Which weather pattern is most dangerous?"
   ]
  },
  {
   "cell_type": "code",
   "execution_count": 62,
   "metadata": {},
   "outputs": [
    {
     "data": {
      "image/png": "[encoded data removed]",
      "text/plain": [
       "<Figure size 864x432 with 1 Axes>"
      ]
     },
     "metadata": {
      "needs_background": "light"
     },
     "output_type": "display_data"
    }
   ],
   "source": [
    "create_comparison_bar_chart(aviation_df, 'weather_condition', 'total_injuries', 'sum', False, 10)"
   ]
  },
  {
   "cell_type": "markdown",
   "metadata": {},
   "source": [
    "## Which phase of flight of most dangerous?"
   ]
  },
  {
   "cell_type": "code",
   "execution_count": 63,
   "metadata": {},
   "outputs": [
    {
     "data": {
      "image/png": "[encoded data removed]",
      "text/plain": [
       "<Figure size 864x432 with 1 Axes>"
      ]
     },
     "metadata": {
      "needs_background": "light"
     },
     "output_type": "display_data"
    }
   ],
   "source": [
    "create_comparison_bar_chart(aviation_df, 'broad_phase_of_flight', 'total_injuries', 'sum', False, 10)"
   ]
  },
  {
   "cell_type": "markdown",
   "metadata": {},
   "source": [
    "## Which engine type is most dangerous?"
   ]
  },
  {
   "cell_type": "code",
   "execution_count": 64,
   "metadata": {},
   "outputs": [
    {
     "data": {
      "image/png": "[encoded data removed]",
      "text/plain": [
       "<Figure size 864x432 with 1 Axes>"
      ]
     },
     "metadata": {
      "needs_background": "light"
     },
     "output_type": "display_data"
    }
   ],
   "source": [
    "create_comparison_bar_chart(aviation_df, 'engine_type', 'total_injuries', 'sum', False, 10)"
   ]
  },
  {
   "cell_type": "markdown",
   "metadata": {},
   "source": [
    "## Do the number of engines the aircraft has mitigate the damage done to the aircraft?"
   ]
  },
  {
   "cell_type": "code",
   "execution_count": 65,
   "metadata": {},
   "outputs": [
    {
     "data": {
      "image/png": "[encoded data removed]",
      "text/plain": [
       "<Figure size 720x432 with 1 Axes>"
      ]
     },
     "metadata": {
      "needs_background": "light"
     },
     "output_type": "display_data"
    }
   ],
   "source": [
    "# Group the data by 'aircraft_damage' and 'number_of_engines' and count the frequency of each combination\n",
    "grouped_data = aviation_df.groupby(['aircraft_damage', 'number_of_engines']).size().unstack(fill_value=0)\n",
    "\n",
    "# Plot the grouped bar chart\n",
    "grouped_data.plot(kind='bar', figsize=(10, 6))\n",
    "plt.title('Comparison of Aircraft Damage by Number of Engines')\n",
    "plt.xlabel('Aircraft Damage')\n",
    "plt.ylabel('Frequency')\n",
    "plt.xticks(rotation=0)\n",
    "plt.legend(title='Number of Engines')\n",
    "plt.tight_layout()\n",
    "plt.show()"
   ]
  },
  {
   "cell_type": "markdown",
   "metadata": {},
   "source": [
    "# Trend Analysis"
   ]
  },
  {
   "cell_type": "markdown",
   "metadata": {},
   "source": [
    "## Number of Avaiation Accidents"
   ]
  },
  {
   "cell_type": "code",
   "execution_count": 66,
   "metadata": {},
   "outputs": [
    {
     "data": {
      "image/png": "[encoded data removed]",
      "text/plain": [
       "<Figure size 720x432 with 1 Axes>"
      ]
     },
     "metadata": {
      "needs_background": "light"
     },
     "output_type": "display_data"
    }
   ],
   "source": [
    "# Group the DataFrame to show pertinent values\n",
    "yearly_injuries = aviation_df.groupby('year')['total_injuries'].sum()\n",
    "\n",
    "# Plot the results\n",
    "yearly_injuries.plot(kind='line', figsize=(10, 6))\n",
    "plt.title('Total Injuries by Year')\n",
    "plt.xlabel('Year')\n",
    "plt.ylabel('Total Injuries')\n",
    "plt.xticks(rotation=45)\n",
    "plt.show()"
   ]
  },
  {
   "cell_type": "markdown",
   "metadata": {},
   "source": [
    "**Review**\n",
    "There are a few accidents reported prior to 1982. \n",
    "\n",
    "**Action**\n",
    "Filter the DataFrame further to only show accidents from 1982 onward."
   ]
  },
  {
   "cell_type": "markdown",
   "metadata": {},
   "source": [
    "### Number of Avaiation Accidents (post 1982)"
   ]
  },
  {
   "cell_type": "code",
   "execution_count": 67,
   "metadata": {},
   "outputs": [
    {
     "data": {
      "image/png": "[encoded data removed]",
      "text/plain": [
       "<Figure size 720x432 with 1 Axes>"
      ]
     },
     "metadata": {
      "needs_background": "light"
     },
     "output_type": "display_data"
    }
   ],
   "source": [
    "# Filter the DataFrame to show years after 1981\n",
    "year_1982_plus = aviation_df[(aviation_df['year'] >= 1982)]\n",
    "\n",
    "# Group the DataFrame to show pertinent values\n",
    "yearly_injuries = year_1982_plus.groupby('year')['total_injuries'].sum()\n",
    "\n",
    "yearly_fatal_injuries = year_1982_plus.groupby('year')['total_fatal_injuries'].sum()\n",
    "\n",
    "# Calculate the mean of total injuries\n",
    "mean_injuries = yearly_injuries.mean()\n",
    "\n",
    "# Plot the results\n",
    "plt.figure(figsize=(10, 6))\n",
    "plt.plot(yearly_injuries.index, yearly_injuries.values, linestyle='-', color='b', label='Total Injuries')\n",
    "\n",
    "# Plot the fatal injuries as a line graph\n",
    "plt.plot(yearly_fatal_injuries.index, yearly_fatal_injuries.values, linestyle='-', color='g', label='Fatal Injuries')\n",
    "\n",
    "# Add a horizontal line for the mean\n",
    "plt.axhline(mean_injuries, color='red', linestyle='--', linewidth=1.5)\n",
    "\n",
    "# Add titles and labels\n",
    "plt.title('Total Injuries by Year (post 1982)')\n",
    "plt.xlabel('Year')\n",
    "plt.ylabel('Total Injuries')\n",
    "plt.xticks(rotation=45)\n",
    "plt.legend()\n",
    "plt.show()"
   ]
  },
  {
   "cell_type": "code",
   "execution_count": 68,
   "metadata": {},
   "outputs": [
    {
     "data": {
      "image/png": "[encoded data removed]",
      "text/plain": [
       "<Figure size 720x432 with 1 Axes>"
      ]
     },
     "metadata": {
      "needs_background": "light"
     },
     "output_type": "display_data"
    }
   ],
   "source": [
    "# Calculate the total number of accidents and fatal injuries per year\n",
    "accidents_per_year = aviation_df.groupby('year').size()\n",
    "fatal_injuries_per_year = aviation_df.groupby('year')['total_fatal_injuries'].sum()\n",
    "\n",
    "# Calculate the fatality rate per year\n",
    "fatality_rate_per_year = fatal_injuries_per_year / accidents_per_year\n",
    "\n",
    "# Plot the fatality rate over the years\n",
    "plt.figure(figsize=(10, 6))\n",
    "fatality_rate_per_year.plot(kind='line', color='red', marker='o')\n",
    "plt.title('Fatality Rate per Year')\n",
    "plt.xlabel('Year')\n",
    "plt.ylabel('Fatality Rate')\n",
    "plt.grid(True)\n",
    "plt.tight_layout()\n",
    "plt.show()"
   ]
  },
  {
   "cell_type": "code",
   "execution_count": 69,
   "metadata": {},
   "outputs": [
    {
     "data": {
      "image/png": "[encoded data removed]",
      "text/plain": [
       "<Figure size 720x432 with 1 Axes>"
      ]
     },
     "metadata": {
      "needs_background": "light"
     },
     "output_type": "display_data"
    }
   ],
   "source": [
    "# Calculate the total number of fatal injuries per month\n",
    "fatal_injuries_per_month = aviation_df.groupby('month')['total_fatal_injuries'].sum()\n",
    "\n",
    "# Plot the count of fatal injuries for each month\n",
    "plt.figure(figsize=(10, 6))\n",
    "fatal_injuries_per_month.plot(kind='bar', color='blue')\n",
    "plt.title('Count of Fatal Injuries per Month')\n",
    "plt.xlabel('Month')\n",
    "plt.ylabel('Count of Fatal Injuries')\n",
    "plt.xticks(rotation=0)\n",
    "plt.tight_layout()\n",
    "plt.show()"
   ]
  },
  {
   "cell_type": "markdown",
   "metadata": {},
   "source": [
    "## Commerical Aircraft"
   ]
  },
  {
   "cell_type": "markdown",
   "metadata": {},
   "source": [
    "The two major players in commerical airline manufacturing are Boeing and Airbus. They have operated a duoply over the commerical airline industry since the 1990's. \n",
    "\n",
    "According to reports by CNBC, Airbus and Boeing together account for 99% of all large aircraft orders (and these orders together account for 90% of all aircraft sales). \n",
    "\n",
    "- CNBC article is no longer avaliable, written in 2019\n",
    "- https://simpleflying.com/battle-of-big-planes/"
   ]
  },
  {
   "cell_type": "code",
   "execution_count": 70,
   "metadata": {},
   "outputs": [],
   "source": [
    "airbus_v_boeing_df = aviation_df[\n",
    "    (aviation_df['engine_type'] == 'turbo fan') &\n",
    "    ((aviation_df['make'] == 'airbus') | \n",
    "    (aviation_df['make'] == 'boeing'))\n",
    "]"
   ]
  },
  {
   "cell_type": "markdown",
   "metadata": {},
   "source": [
    "### Do certain commerical aircraft perform better in different weather conditions?"
   ]
  },
  {
   "cell_type": "code",
   "execution_count": 71,
   "metadata": {},
   "outputs": [
    {
     "data": {
      "image/png": "[encoded data removed]",
      "text/plain": [
       "<Figure size 864x576 with 1 Axes>"
      ]
     },
     "metadata": {
      "needs_background": "light"
     },
     "output_type": "display_data"
    }
   ],
   "source": [
    "# Group the data by 'make_model' and 'weather_condition', count values, convert to single index DataFrame\n",
    "weather_counts = airbus_v_boeing_df.groupby(['make_model', 'weather_condition']).size().unstack()\n",
    "\n",
    "# Sum the counts of the columns ('make_model' by 'weather_condition')\n",
    "weather_counts_total = weather_counts.sum(axis=1)\n",
    "\n",
    "# Sort the total counts in descending order\n",
    "weather_counts_total_sorted = weather_counts_total.sort_values(ascending=False)\n",
    "\n",
    "# Sorts the weather_counts df by using the indexes of the series weather_counts_total_sorted \n",
    "weather_counts_sorted = weather_counts.loc[weather_counts_total_sorted.index]\n",
    "\n",
    "# Plotting\n",
    "weather_counts_sorted.plot(kind='bar', stacked=True, figsize=(12, 8))\n",
    "plt.title('Counts of Incidents by Aircraft Model and Weather Condition (Sorted)')\n",
    "plt.xlabel('Aircraft Model')\n",
    "plt.ylabel('Count of Accidents')\n",
    "plt.xticks(rotation=45)\n",
    "plt.legend(title='Weather Condition')\n",
    "plt.tight_layout()\n",
    "plt.show();"
   ]
  },
  {
   "cell_type": "markdown",
   "metadata": {},
   "source": [
    "### Are certain commerical aircraft more durable than others?"
   ]
  },
  {
   "cell_type": "code",
   "execution_count": 72,
   "metadata": {},
   "outputs": [
    {
     "data": {
      "image/png": "[encoded data removed]",
      "text/plain": [
       "<Figure size 864x576 with 1 Axes>"
      ]
     },
     "metadata": {
      "needs_background": "light"
     },
     "output_type": "display_data"
    }
   ],
   "source": [
    "# Group the data by 'make_model' and 'aircraft_damage', count values, convert to single index DataFrame\n",
    "damage_counts = airbus_v_boeing_df.groupby(['make_model', 'aircraft_damage']).size().unstack()\n",
    "\n",
    "# Sum the counts of the columns ('make_model' by 'weather_condition')\n",
    "damage_counts_total = damage_counts.sum(axis=1)\n",
    "\n",
    "# Sort the total counts in descending order\n",
    "damage_counts_total_sorted = damage_counts_total.sort_values(ascending=False)\n",
    "\n",
    "# Sorts the weather_counts df by using the indexes of the series weather_counts_total_sorted \n",
    "damage_counts_sorted = damage_counts.loc[damage_counts_total_sorted.index]\n",
    "\n",
    "# Plotting\n",
    "damage_counts_sorted.plot(kind='bar', stacked=True, figsize=(12, 8))\n",
    "plt.title('Counts of Incidents by Aircraft Model and Weather Condition (Sorted)')\n",
    "plt.xlabel('Aircraft Model')\n",
    "plt.ylabel('Count of Accidents')\n",
    "plt.xticks(rotation=45)\n",
    "plt.legend(title='Aircraft Damage')\n",
    "plt.tight_layout()\n",
    "plt.show();"
   ]
  },
  {
   "cell_type": "markdown",
   "metadata": {},
   "source": [
    "### What is the safest commerical aircraft?"
   ]
  },
  {
   "cell_type": "code",
   "execution_count": 73,
   "metadata": {},
   "outputs": [
    {
     "data": {
      "image/png": "[encoded data removed]",
      "text/plain": [
       "<Figure size 864x432 with 1 Axes>"
      ]
     },
     "metadata": {
      "needs_background": "light"
     },
     "output_type": "display_data"
    }
   ],
   "source": [
    "create_comparison_bar_chart(airbus_v_boeing_df, 'make_model', 'total_injuries', 'sum', False, 50)\n",
    "\n",
    "# Calculate numerical measure for each categorical column\n",
    "commercial_aircraft = airbus_v_boeing_df.groupby('make_model')['total_injuries'].sum()"
   ]
  },
  {
   "cell_type": "markdown",
   "metadata": {},
   "source": [
    "**Analysis**\n",
    "\n",
    "- Boeing MD-11\n",
    "    - No longer made. \n",
    "        - Only 200 examples built.\n",
    "        - The last of 200 aircraft was built in October 2000 after Boeing merged with McDonnell Douglas in 1997. \n",
    "        - Failed to meet its range and fuel burn targets when it was active. \n",
    "    - Many of the MD-11 passenger fleet were converted into freighter specification, many of which are still in service today.\n",
    "    \n",
    "- Boeing 787\n",
    "    - Early 787 operations encountered several problems caused mainly by its lithium-ion batteries, including fires onboard some aircraft. \n",
    "        - In January 2013, the U.S. FAA grounded all 787s until it approved the revised battery design in April 2013. \n",
    "        - Significant quality control issues from 2019 onwards caused a production slowdown and, from January 2021 until August 2022, an almost total cessation of deliveries. \n",
    "        - Boeing has spent 32 billion on the program; estimates for the number of aircraft sales needed to break even vary between 1,300 and 2,000. \n",
    "        - As of April 2024, the 787 program has received 1,915 orders and made 1,127 deliveries with no fatalities and no hull losses.\n",
    "        \n",
    "- Airbus A321\n",
    "    - First flight on 11 March 1993 \n",
    "    - Still in production.\n",
    "    - Safety:\n",
    "        - The aircraft shares a common type rating with all other Airbus A320-family variants, allowing A320-family pilots to fly the aircraft without the need for further training. \n",
    "        \n",
    "- Airbus A330\n",
    "    - First flight on 2 November 1992. \n",
    "    - Still in production.\n",
    "    - The global A330 fleet had accumulated more than 65 million flight hours since its entry into service.\n",
    "    \n",
    "        \n",
    "- Airbus A380\n",
    "    - Airbus ended production of the A380 in 2021.\n",
    "    - As of December 2021, the global A380 fleet had completed more than 800,000 flights over 7.3 million block hours with no fatalities and no hull losses. As of December 2022, there were 237 aircraft in service with 16 operators worldwide. \n",
    "\n",
    "- Boeing MD-10\n",
    "    - Data is missing.\n",
    "        - Original cargo doors that caused multiple incidents, including fatalities. Most notably the crash of Turkish Airlines Flight 981 in Paris in 1974, the deadliest crash in aviation history up to that time. \n",
    "    - Production ended in 1989\n",
    "    - In February 2014, the DC-10 made its last commercial passenger flight."
   ]
  },
  {
   "cell_type": "markdown",
   "metadata": {},
   "source": [
    "# Document Your Finding"
   ]
  },
  {
   "cell_type": "code",
   "execution_count": null,
   "metadata": {},
   "outputs": [],
   "source": []
  },
  {
   "cell_type": "code",
   "execution_count": null,
   "metadata": {},
   "outputs": [],
   "source": []
  }
 ],
 "metadata": {
  "kernelspec": {
   "display_name": "Python (learn-env)",
   "language": "python",
   "name": "learn-env"
  },
  "language_info": {
   "codemirror_mode": {
    "name": "ipython",
    "version": 3
   },
   "file_extension": ".py",
   "mimetype": "text/x-python",
   "name": "python",
   "nbconvert_exporter": "python",
   "pygments_lexer": "ipython3",
   "version": "3.8.5"
  }
 },
 "nbformat": 4,
 "nbformat_minor": 4
}
